{
 "cells": [
  {
   "cell_type": "code",
   "execution_count": 4,
   "metadata": {},
   "outputs": [
    {
     "name": "stderr",
     "output_type": "stream",
     "text": [
      "┌ Info: Precompiling SpinBodies [top-level]\n",
      "└ @ Base loading.jl:1260\n",
      "┌ Info: Precompiling MBTrees [top-level]\n",
      "└ @ Base loading.jl:1260\n"
     ]
    }
   ],
   "source": [
    "push!(LOAD_PATH, pwd())\n",
    "\n",
    "using PyPlot, SpinBodies, MBTrees"
   ]
  },
  {
   "cell_type": "code",
   "execution_count": 7,
   "metadata": {},
   "outputs": [],
   "source": [
    "const steps = 1e6\n",
    "const maxitr = 1e6\n",
    "const frameskip = 500\n",
    "\n",
    "const version = :tri\n",
    "    \n",
    "const N = 50\n",
    "const T = 0.5;"
   ]
  },
  {
   "cell_type": "code",
   "execution_count": 8,
   "metadata": {},
   "outputs": [
    {
     "ename": "ArgumentError",
     "evalue": "ArgumentError: hasproperty of NULL PyObject",
     "output_type": "error",
     "traceback": [
      "ArgumentError: hasproperty of NULL PyObject",
      "",
      "Stacktrace:",
      " [1] pyhasproperty(::PyCall.PyObject, ::String) at /home/aaron/.julia/packages/PyCall/zqDXB/src/PyCall.jl:348",
      " [2] hasproperty at /home/aaron/.julia/packages/PyCall/zqDXB/src/PyCall.jl:354 [inlined]",
      " [3] axes(; kws::Base.Iterators.Pairs{Union{},Union{},Tuple{},NamedTuple{(),Tuple{}}}) at /home/aaron/.julia/packages/PyPlot/XHEG0/src/PyPlot.jl:174",
      " [4] axes() at /home/aaron/.julia/packages/PyPlot/XHEG0/src/PyPlot.jl:174",
      " [5] top-level scope at In[8]:3"
     ]
    }
   ],
   "source": [
    "lattice = SpinLattice(N, T)\n",
    "tree = build_tree(lattice, version)\n",
    "\n",
    "ax = PyPlot.axes()\n",
    "\n",
    "for step = 1:steps\n",
    "    freeman_step!(lattice, tree)\n",
    "    if step % frameskip == 0\n",
    "        vis = visualize(lattice)\n",
    "        ax.cla()\n",
    "        ax.matshow(vis)\n",
    "        PyPlot.pause(0.0001)\n",
    "    end\n",
    "end"
   ]
  },
  {
   "cell_type": "code",
   "execution_count": 7,
   "metadata": {},
   "outputs": [
    {
     "ename": "ArgumentError",
     "evalue": "ArgumentError: hasproperty of NULL PyObject",
     "output_type": "error",
     "traceback": [
      "ArgumentError: hasproperty of NULL PyObject",
      "",
      "Stacktrace:",
      " [1] pyhasproperty(::PyCall.PyObject, ::String) at /home/aaron/.julia/packages/PyCall/zqDXB/src/PyCall.jl:348",
      " [2] hasproperty at /home/aaron/.julia/packages/PyCall/zqDXB/src/PyCall.jl:354 [inlined]",
      " [3] matshow(::Array{Float64,2}; kws::Base.Iterators.Pairs{Union{},Union{},Tuple{},NamedTuple{(),Tuple{}}}) at /home/aaron/.julia/packages/PyPlot/XHEG0/src/PyPlot.jl:174",
      " [4] matshow(::Array{Float64,2}) at /home/aaron/.julia/packages/PyPlot/XHEG0/src/PyPlot.jl:174",
      " [5] top-level scope at In[7]:2"
     ]
    }
   ],
   "source": [
    "m = rand(10,10)\n",
    "PyPlot.matshow(m)"
   ]
  },
  {
   "cell_type": "code",
   "execution_count": null,
   "metadata": {},
   "outputs": [],
   "source": []
  }
 ],
 "metadata": {
  "kernelspec": {
   "display_name": "Julia 1.4.1",
   "language": "julia",
   "name": "julia-1.4"
  },
  "language_info": {
   "file_extension": ".jl",
   "mimetype": "application/julia",
   "name": "julia",
   "version": "1.4.1"
  }
 },
 "nbformat": 4,
 "nbformat_minor": 4
}
