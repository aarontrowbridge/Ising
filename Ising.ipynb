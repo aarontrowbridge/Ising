{
 "cells": [
  {
   "cell_type": "code",
   "execution_count": 1,
   "metadata": {},
   "outputs": [
    {
     "name": "stderr",
     "output_type": "stream",
     "text": [
      "┌ Info: Precompiling SpinBodies [top-level]\n",
      "└ @ Base loading.jl:1260\n",
      "┌ Info: Precompiling MBTrees [top-level]\n",
      "└ @ Base loading.jl:1260\n"
     ]
    }
   ],
   "source": [
    "push!(LOAD_PATH, pwd())\n",
    "\n",
    "using PyPlot, SpinBodies, MBTrees;"
   ]
  },
  {
   "cell_type": "code",
   "execution_count": 10,
   "metadata": {},
   "outputs": [
    {
     "name": "stderr",
     "output_type": "stream",
     "text": [
      "WARNING: redefining constant T\n"
     ]
    }
   ],
   "source": [
    "const steps = 1e6\n",
    "const maxitr = 1e6\n",
    "const frameskip = 500\n",
    "\n",
    "const version = :tri\n",
    "    \n",
    "const N = 50\n",
    "const T = 1.5;"
   ]
  },
  {
   "cell_type": "code",
   "execution_count": 11,
   "metadata": {},
   "outputs": [
    {
     "data": {
      "text/plain": [
       "animate_comparison (generic function with 1 method)"
      ]
     },
     "execution_count": 11,
     "metadata": {},
     "output_type": "execute_result"
    }
   ],
   "source": [
    "pygui(true)\n",
    "\n",
    "function animate_comparison()\n",
    "    lattice1 = SpinLattice(N, T)\n",
    "    lattice2 = copy(lattice1)\n",
    "    tree = build_tree(lattice1, version)\n",
    "\n",
    "    fig, axs = PyPlot.subplots(1,2)\n",
    "\n",
    "    for step = 1:steps\n",
    "        freeman_step!(lattice1, tree)\n",
    "        metropolis_step!(lattice2)\n",
    "        if step % frameskip == 0\n",
    "            vis1 = visualize(lattice1)\n",
    "            vis2 = visualize(lattice2)\n",
    "            axs[1].cla()\n",
    "            axs[1].matshow(vis1)\n",
    "            axs[2].cla()\n",
    "            axs[2].matshow(vis2)\n",
    "            PyPlot.pause(0.001)\n",
    "        end\n",
    "    end\n",
    "end"
   ]
  },
  {
   "cell_type": "code",
   "execution_count": 13,
   "metadata": {},
   "outputs": [
    {
     "data": {
      "text/plain": [
       "animate_classic (generic function with 1 method)"
      ]
     },
     "execution_count": 13,
     "metadata": {},
     "output_type": "execute_result"
    }
   ],
   "source": [
    "pygui(true)\n",
    "\n",
    "function animate_classic()\n",
    "    lattice = SpinLattice(N, T)\n",
    "    tree = build_tree(lattice, version)\n",
    "\n",
    "    fig, ax = PyPlot.subplots()\n",
    "\n",
    "    for step = 1:steps\n",
    "        metropolis_step!(lattice)\n",
    "        if step % frameskip == 0\n",
    "            vis = visualize(lattice)\n",
    "            ax.cla()\n",
    "            ax.matshow(vis)\n",
    "            PyPlot.pause(0.0001)\n",
    "        end\n",
    "    end\n",
    "end"
   ]
  },
  {
   "cell_type": "code",
   "execution_count": 14,
   "metadata": {
    "collapsed": true,
    "jupyter": {
     "outputs_hidden": true
    }
   },
   "outputs": [
    {
     "ename": "InterruptException",
     "evalue": "InterruptException:",
     "output_type": "error",
     "traceback": [
      "InterruptException:",
      "",
      "Stacktrace:",
      " [1] sigatomic_end at ./c.jl:425 [inlined]",
      " [2] disable_sigint at ./c.jl:448 [inlined]",
      " [3] __pycall! at /Users/aaron/.julia/packages/PyCall/zqDXB/src/pyfncall.jl:42 [inlined]",
      " [4] _pycall!(::PyCall.PyObject, ::PyCall.PyObject, ::Tuple{}, ::Int64, ::Ptr{Nothing}) at /Users/aaron/.julia/packages/PyCall/zqDXB/src/pyfncall.jl:29",
      " [5] _pycall! at /Users/aaron/.julia/packages/PyCall/zqDXB/src/pyfncall.jl:11 [inlined]",
      " [6] #_#117 at /Users/aaron/.julia/packages/PyCall/zqDXB/src/pyfncall.jl:86 [inlined]",
      " [7] (::PyCall.PyObject)() at /Users/aaron/.julia/packages/PyCall/zqDXB/src/pyfncall.jl:86",
      " [8] animate_classic() at ./In[13]:13",
      " [9] top-level scope at In[14]:1"
     ]
    }
   ],
   "source": [
    "animate_classic()"
   ]
  },
  {
   "cell_type": "code",
   "execution_count": null,
   "metadata": {},
   "outputs": [],
   "source": []
  }
 ],
 "metadata": {
  "kernelspec": {
   "display_name": "Julia 1.4.0",
   "language": "julia",
   "name": "julia-1.4"
  },
  "language_info": {
   "file_extension": ".jl",
   "mimetype": "application/julia",
   "name": "julia",
   "version": "1.4.0"
  }
 },
 "nbformat": 4,
 "nbformat_minor": 4
}
