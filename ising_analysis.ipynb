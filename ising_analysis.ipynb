{
 "cells": [
  {
   "cell_type": "code",
   "execution_count": null,
   "metadata": {},
   "outputs": [],
   "source": [
    "push!(LOAD_PATH, pwd())\n",
    "\n",
    "using PyPlot, Statistics, CPUTime\n",
    "using SpinBodies, MBTrees;"
   ]
  },
  {
   "cell_type": "code",
   "execution_count": null,
   "metadata": {},
   "outputs": [],
   "source": [
    "const maxsteps = 1000000\n",
    "const N        = 50\n",
    "const T_step   = 0.1\n",
    "const Ts       = T_step:T_step:4;"
   ]
  },
  {
   "cell_type": "code",
   "execution_count": null,
   "metadata": {},
   "outputs": [],
   "source": [
    "freeman_data      = Vector{Float64}(undef, length(Ts))\n",
    "freeman_fast_data = Vector{Float64}(undef, length(Ts))\n",
    "metropolis_data   = Vector{Float64}(undef, length(Ts));"
   ]
  },
  {
   "cell_type": "markdown",
   "metadata": {},
   "source": [
    "# Freeman Data"
   ]
  },
  {
   "cell_type": "code",
   "execution_count": null,
   "metadata": {},
   "outputs": [],
   "source": [
    "for (i, T) in enumerate(Ts)\n",
    "    lattice = SpinLattice(N, T)\n",
    "    tree = build_tree(lattice)\n",
    "    times = Vector{Float64}(undef, 20)\n",
    "    for j = 1:20\n",
    "        time = @CPUelapsed while lattice.steps < maxsteps\n",
    "            freeman_step!(lattice, tree)\n",
    "        end\n",
    "        times[j] = time\n",
    "    end\n",
    "    freeman_data[i] = mean(times)\n",
    "    if i % 5 == 0\n",
    "        println(\"T = $T\")\n",
    "    end \n",
    "end"
   ]
  },
  {
   "cell_type": "markdown",
   "metadata": {},
   "source": [
    "# Freeman (Fast) Data"
   ]
  },
  {
   "cell_type": "code",
   "execution_count": null,
   "metadata": {},
   "outputs": [],
   "source": [
    "for (i, T) in enumerate(Ts)\n",
    "    lattice = SpinLattice(N, T)\n",
    "    tree = build_tree(lattice)\n",
    "    times = Vector{Float64}(undef, 20)\n",
    "    for j = 1:20\n",
    "        time = @CPUelapsed while lattice.steps < maxsteps\n",
    "            freeman_step!(lattice, tree, fast=true)\n",
    "        end\n",
    "        times[j] = time\n",
    "    end\n",
    "    freeman_fast_data[i] = mean(times)\n",
    "    if i % 5 == 0\n",
    "        println(\"T = $T\")\n",
    "    end \n",
    "end"
   ]
  },
  {
   "cell_type": "markdown",
   "metadata": {},
   "source": [
    "# Metropolis Data"
   ]
  },
  {
   "cell_type": "code",
   "execution_count": null,
   "metadata": {},
   "outputs": [],
   "source": [
    "for (i, T) in enumerate(Ts)\n",
    "    lattice = SpinLattice(N, T)\n",
    "    times = Vector{Float64}(undef, 20)\n",
    "    for j = 1:20\n",
    "        time = @CPUelapsed while lattice.steps < maxsteps\n",
    "            metropolis_step!(lattice)\n",
    "        end\n",
    "        times[j] = time\n",
    "    end\n",
    "    metropolis_data[i] = mean(times)\n",
    "    if i % 5 == 0\n",
    "        println(\"T = $T\")\n",
    "    end \n",
    "end"
   ]
  },
  {
   "cell_type": "code",
   "execution_count": null,
   "metadata": {},
   "outputs": [],
   "source": []
  },
  {
   "cell_type": "code",
   "execution_count": null,
   "metadata": {},
   "outputs": [],
   "source": [
    "semilogy(Ts, freeman_data ./ metropolis_data) # / freeman_data[end] * metropolis_data[end])\n",
    "semilogy(Ts, freeman_fast_data ./ metropolis_data) # / freeman_fast_data[end] * metropolis_data[end])\n",
    "legend([\"freeman_CPUtime / metropolis_CPUtime\", \"freeman_fast_CPUtime / metropolis_CPUtime\"])\n",
    "# savefig(\"freeman_CPUtime_per_metropolis_CPUtime.pdf\")"
   ]
  },
  {
   "cell_type": "code",
   "execution_count": null,
   "metadata": {},
   "outputs": [],
   "source": []
  }
 ],
 "metadata": {
  "kernelspec": {
   "display_name": "Julia 1.4.0",
   "language": "julia",
   "name": "julia-1.4"
  },
  "language_info": {
   "file_extension": ".jl",
   "mimetype": "application/julia",
   "name": "julia",
   "version": "1.4.0"
  }
 },
 "nbformat": 4,
 "nbformat_minor": 4
}
