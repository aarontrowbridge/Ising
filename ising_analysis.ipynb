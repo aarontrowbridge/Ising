{
 "cells": [
  {
   "cell_type": "code",
   "execution_count": 1,
   "metadata": {},
   "outputs": [
    {
     "name": "stderr",
     "output_type": "stream",
     "text": [
      "┌ Info: Precompiling PyPlot [d330b81b-6aea-500a-939a-2ce795aea3ee]\n",
      "└ @ Base loading.jl:1260\n",
      "┌ Warning: Module VersionParsing with build ID 47460475475961 is missing from the cache.\n",
      "│ This may mean VersionParsing [81def892-9a0e-5fdd-b105-ffc91e053289] does not support precompilation but is imported by a module that does.\n",
      "└ @ Base loading.jl:1016\n",
      "┌ Warning: Module VersionParsing with build ID 47460475475961 is missing from the cache.\n",
      "│ This may mean VersionParsing [81def892-9a0e-5fdd-b105-ffc91e053289] does not support precompilation but is imported by a module that does.\n",
      "└ @ Base loading.jl:1016\n",
      "┌ Info: Skipping precompilation since __precompile__(false). Importing PyPlot [d330b81b-6aea-500a-939a-2ce795aea3ee].\n",
      "└ @ Base loading.jl:1033\n",
      "┌ Info: Precompiling PyCall [438e738f-606a-5dbb-bf0a-cddfbfd45ab0]\n",
      "└ @ Base loading.jl:1260\n",
      "┌ Warning: Module VersionParsing with build ID 47460475475961 is missing from the cache.\n",
      "│ This may mean VersionParsing [81def892-9a0e-5fdd-b105-ffc91e053289] does not support precompilation but is imported by a module that does.\n",
      "└ @ Base loading.jl:1016\n",
      "┌ Info: Skipping precompilation since __precompile__(false). Importing PyCall [438e738f-606a-5dbb-bf0a-cddfbfd45ab0].\n",
      "└ @ Base loading.jl:1033\n",
      "┌ Info: Precompiling MacroTools [1914dd2f-81c6-5fcd-8719-6d5c9610ff09]\n",
      "└ @ Base loading.jl:1260\n",
      "┌ Warning: The call to compilecache failed to create a usable precompiled cache file for MacroTools [1914dd2f-81c6-5fcd-8719-6d5c9610ff09]\n",
      "│   exception = ArgumentError(\"Invalid header in cache file /home/aaron/.julia/compiled/v1.4/MacroTools/38lnR_u8DpU.ji.\")\n",
      "└ @ Base loading.jl:1041\n",
      "┌ Info: Precompiling Colors [5ae59095-9a9b-59fe-a467-6f913c188581]\n",
      "└ @ Base loading.jl:1260\n",
      "┌ Warning: The call to compilecache failed to create a usable precompiled cache file for Colors [5ae59095-9a9b-59fe-a467-6f913c188581]\n",
      "│   exception = ArgumentError(\"Invalid header in cache file /home/aaron/.julia/compiled/v1.4/Colors/NKjaT_u8DpU.ji.\")\n",
      "└ @ Base loading.jl:1041\n",
      "┌ Info: Precompiling FixedPointNumbers [53c48c17-4a7d-5ca2-90c5-79b7896eea93]\n",
      "└ @ Base loading.jl:1260\n",
      "┌ Warning: The call to compilecache failed to create a usable precompiled cache file for FixedPointNumbers [53c48c17-4a7d-5ca2-90c5-79b7896eea93]\n",
      "│   exception = ArgumentError(\"Invalid header in cache file /home/aaron/.julia/compiled/v1.4/FixedPointNumbers/Ple2W_u8DpU.ji.\")\n",
      "└ @ Base loading.jl:1041\n",
      "┌ Info: Precompiling Reexport [189a3867-3050-52da-a836-e630ba90ab69]\n",
      "└ @ Base loading.jl:1260\n",
      "┌ Warning: The call to compilecache failed to create a usable precompiled cache file for Reexport [189a3867-3050-52da-a836-e630ba90ab69]\n",
      "│   exception = ArgumentError(\"Invalid header in cache file /home/aaron/.julia/compiled/v1.4/Reexport/bTpYr_u8DpU.ji.\")\n",
      "└ @ Base loading.jl:1041\n",
      "┌ Info: Precompiling ColorTypes [3da002f7-5984-5a60-b8a6-cbb66c0b333f]\n",
      "└ @ Base loading.jl:1260\n",
      "┌ Warning: Module FixedPointNumbers with build ID 37170908499433 is missing from the cache.\n",
      "│ This may mean FixedPointNumbers [53c48c17-4a7d-5ca2-90c5-79b7896eea93] does not support precompilation but is imported by a module that does.\n",
      "└ @ Base loading.jl:1016\n",
      "┌ Info: Skipping precompilation since __precompile__(false). Importing ColorTypes [3da002f7-5984-5a60-b8a6-cbb66c0b333f].\n",
      "└ @ Base loading.jl:1033\n",
      "┌ Info: Precompiling LaTeXStrings [b964fa9f-0449-5b57-a5c2-d3ea65f4040f]\n",
      "└ @ Base loading.jl:1260\n",
      "┌ Warning: The call to compilecache failed to create a usable precompiled cache file for LaTeXStrings [b964fa9f-0449-5b57-a5c2-d3ea65f4040f]\n",
      "│   exception = ArgumentError(\"Invalid header in cache file /home/aaron/.julia/compiled/v1.4/LaTeXStrings/H4HGh_u8DpU.ji.\")\n",
      "└ @ Base loading.jl:1041\n"
     ]
    },
    {
     "ename": "LoadError",
     "evalue": "InitError: PyError (PyImport_ImportModule\n\nThe Python package matplotlib could not be found by pyimport. Usually this means\nthat you did not install matplotlib in the Python version being used by PyCall.\n\nPyCall is currently configured to use the Python version at:\n\n/usr/bin/python3\n\nand you should use whatever mechanism you usually use (apt-get, pip, conda,\netcetera) to install the Python package containing the matplotlib module.\n\nOne alternative is to re-configure PyCall to use a different Python\nversion on your system: set ENV[\"PYTHON\"] to the path/name of the python\nexecutable you want to use, run Pkg.build(\"PyCall\"), and re-launch Julia.\n\nAnother alternative is to configure PyCall to use a Julia-specific Python\ndistribution via the Conda.jl package (which installs a private Anaconda\nPython distribution), which has the advantage that packages can be installed\nand kept up-to-date via Julia.  As explained in the PyCall documentation,\nset ENV[\"PYTHON\"]=\"\", run Pkg.build(\"PyCall\"), and re-launch Julia. Then,\nTo install the matplotlib module, you can use `pyimport_conda(\"matplotlib\", PKG)`,\nwhere PKG is the Anaconda package the contains the module matplotlib,\nor alternatively you can use the Conda package directly (via\n`using Conda` followed by `Conda.add` etcetera).\n\n) <class 'ModuleNotFoundError'>\nModuleNotFoundError(\"No module named 'matplotlib'\")\n\nduring initialization of module PyPlot",
     "output_type": "error",
     "traceback": [
      "InitError: PyError (PyImport_ImportModule\n\nThe Python package matplotlib could not be found by pyimport. Usually this means\nthat you did not install matplotlib in the Python version being used by PyCall.\n\nPyCall is currently configured to use the Python version at:\n\n/usr/bin/python3\n\nand you should use whatever mechanism you usually use (apt-get, pip, conda,\netcetera) to install the Python package containing the matplotlib module.\n\nOne alternative is to re-configure PyCall to use a different Python\nversion on your system: set ENV[\"PYTHON\"] to the path/name of the python\nexecutable you want to use, run Pkg.build(\"PyCall\"), and re-launch Julia.\n\nAnother alternative is to configure PyCall to use a Julia-specific Python\ndistribution via the Conda.jl package (which installs a private Anaconda\nPython distribution), which has the advantage that packages can be installed\nand kept up-to-date via Julia.  As explained in the PyCall documentation,\nset ENV[\"PYTHON\"]=\"\", run Pkg.build(\"PyCall\"), and re-launch Julia. Then,\nTo install the matplotlib module, you can use `pyimport_conda(\"matplotlib\", PKG)`,\nwhere PKG is the Anaconda package the contains the module matplotlib,\nor alternatively you can use the Conda package directly (via\n`using Conda` followed by `Conda.add` etcetera).\n\n) <class 'ModuleNotFoundError'>\nModuleNotFoundError(\"No module named 'matplotlib'\")\n\nduring initialization of module PyPlot",
      "",
      "Stacktrace:",
      " [1] pyimport(::String) at /home/aaron/.julia/packages/PyCall/zqDXB/src/PyCall.jl:536",
      " [2] pyimport_conda(::String, ::String, ::String) at /home/aaron/.julia/packages/PyCall/zqDXB/src/PyCall.jl:694",
      " [3] pyimport_conda at /home/aaron/.julia/packages/PyCall/zqDXB/src/PyCall.jl:693 [inlined]",
      " [4] __init__() at /home/aaron/.julia/packages/PyPlot/XHEG0/src/init.jl:179",
      " [5] _require(::Base.PkgId) at ./loading.jl:1058",
      " [6] require(::Base.PkgId) at ./loading.jl:927",
      " [7] require(::Module, ::Symbol) at ./loading.jl:922",
      " [8] top-level scope at In[1]:2"
     ]
    }
   ],
   "source": [
    "push!(LOAD_PATH, pwd())\n",
    "\n",
    "using PyPlot, Statistics, CPUTime\n",
    "using SpinBodies, MBTrees;"
   ]
  },
  {
   "cell_type": "code",
   "execution_count": 2,
   "metadata": {},
   "outputs": [],
   "source": [
    "const version = :tri\n",
    "const steps = 500000\n",
    "const N = 10\n",
    "\n",
    "const Ts = 0.1:0.1:4;"
   ]
  },
  {
   "cell_type": "code",
   "execution_count": 3,
   "metadata": {},
   "outputs": [
    {
     "ename": "LoadError",
     "evalue": "UndefVarError: @CPUelapsed not defined",
     "output_type": "error",
     "traceback": [
      "UndefVarError: @CPUelapsed not defined",
      ""
     ]
    }
   ],
   "source": [
    "freeman_data = []\n",
    "\n",
    "for T in Ts\n",
    "    lattice = SpinLattice(N, T)\n",
    "    tree = build_tree(lattice, version)\n",
    "    times = []\n",
    "    for i = 1:25\n",
    "        time = @CPUelapsed for step = 1:steps\n",
    "            freeman_step!(lattice, tree)\n",
    "        end\n",
    "        push!(times, time)\n",
    "    end\n",
    "    push!(freeman_data, mean(times))\n",
    "end"
   ]
  },
  {
   "cell_type": "code",
   "execution_count": 4,
   "metadata": {},
   "outputs": [
    {
     "ename": "UndefVarError",
     "evalue": "UndefVarError: freeman_fast_step! not defined",
     "output_type": "error",
     "traceback": [
      "UndefVarError: freeman_fast_step! not defined",
      "",
      "Stacktrace:",
      " [1] macro expansion at ./In[4]:9 [inlined]",
      " [2] macro expansion at /Users/aaron/.julia/packages/CPUTime/bZJQO/src/CPUTime.jl:61 [inlined]",
      " [3] top-level scope at ./In[4]:8"
     ]
    }
   ],
   "source": [
    "freeman_fast_data = []\n",
    "\n",
    "for T in Ts\n",
    "    lattice = SpinLattice(N, T)\n",
    "    tree = build_tree(lattice, version)\n",
    "    times = []\n",
    "    for i = 1:25\n",
    "        time = @CPUelapsed for step = 1:steps\n",
    "            freeman_fast_step!(lattice, tree)\n",
    "        end\n",
    "        push!(times, time)\n",
    "    end\n",
    "    push!(freeman_fast_data, mean(times))\n",
    "end"
   ]
  },
  {
   "cell_type": "code",
   "execution_count": 5,
   "metadata": {},
   "outputs": [
    {
     "ename": "InterruptException",
     "evalue": "InterruptException:",
     "output_type": "error",
     "traceback": [
      "InterruptException:",
      "",
      "Stacktrace:",
      " [1] Array{Float64,1}(::UndefInitializer, ::Int64) at ./boot.jl:405",
      " [2] vect(::Int64, ::Vararg{Any,N} where N) at ./array.jl:151",
      " [3] m at /Users/aaron/Projects/Ising/SpinBodies.jl:118 [inlined]",
      " [4] metropolis_step!(::SpinLattice) at /Users/aaron/Projects/Ising/SpinBodies.jl:126",
      " [5] macro expansion at ./In[5]:10 [inlined]",
      " [6] macro expansion at /Users/aaron/.julia/packages/CPUTime/bZJQO/src/CPUTime.jl:61 [inlined]",
      " [7] top-level scope at ./In[5]:9"
     ]
    }
   ],
   "source": [
    "metropolis_data = []\n",
    "metropolis_time_per_flip = []\n",
    "\n",
    "for T in Ts\n",
    "    lattice = SpinLattice(N, T)\n",
    "    times = []\n",
    "    flips = []\n",
    "    for i = 1:25\n",
    "        time = @CPUelapsed for step = 1:steps\n",
    "            metropolis_step!(lattice)\n",
    "        end\n",
    "        push!(times, time)\n",
    "        push!(flips, lattice.flips)\n",
    "    end\n",
    "    push!(metropolis_data, mean(times))\n",
    "    push!(metropolis_time_per_flip, mean(times) / mean(flips))\n",
    "end"
   ]
  },
  {
   "cell_type": "code",
   "execution_count": 8,
   "metadata": {},
   "outputs": [
    {
     "ename": "DimensionMismatch",
     "evalue": "DimensionMismatch(\"arrays could not be broadcast to a common size; got a dimension with lengths 12 and 0\")",
     "output_type": "error",
     "traceback": [
      "DimensionMismatch(\"arrays could not be broadcast to a common size; got a dimension with lengths 12 and 0\")",
      "",
      "Stacktrace:",
      " [1] _bcs1 at ./broadcast.jl:490 [inlined]",
      " [2] _bcs at ./broadcast.jl:484 [inlined]",
      " [3] broadcast_shape at ./broadcast.jl:478 [inlined]",
      " [4] combine_axes at ./broadcast.jl:473 [inlined]",
      " [5] instantiate at ./broadcast.jl:256 [inlined]",
      " [6] materialize(::Base.Broadcast.Broadcasted{Base.Broadcast.DefaultArrayStyle{1},Nothing,typeof(/),Tuple{Array{Any,1},Array{Any,1}}}) at ./broadcast.jl:820",
      " [7] top-level scope at In[8]:1"
     ]
    }
   ],
   "source": [
    "semilogy(Ts, freeman_data ./ metropolis_data)\n",
    "semilogy(Ts, freeman_fast_data ./ metropolis_data)\n",
    "legend([\"freeman_CPUtime / metropolis_CPUtime\", \"freeman_fast_CPUtime / metropolis_CPUtime\"])\n",
    "# savefig(\"freeman_CPUtime_per_metropolis_CPUtime.pdf\")"
   ]
  },
  {
   "cell_type": "code",
   "execution_count": 9,
   "metadata": {},
   "outputs": [
    {
     "ename": "BoundsError",
     "evalue": "BoundsError: attempt to access 0-element Array{Any,1} at index [0]",
     "output_type": "error",
     "traceback": [
      "BoundsError: attempt to access 0-element Array{Any,1} at index [0]",
      "",
      "Stacktrace:",
      " [1] getindex(::Array{Any,1}, ::Int64) at ./array.jl:787",
      " [2] top-level scope at In[9]:1"
     ]
    }
   ],
   "source": [
    "semilogy(Ts, metropolis_time_per_flip ./ metropolis_time_per_flip[end])\n",
    "legend([\"metropolis_CPUtime / flip\"])\n",
    "# savefig(\"metropolis_CPUtime_per_flip.pdf\")"
   ]
  },
  {
   "cell_type": "code",
   "execution_count": null,
   "metadata": {},
   "outputs": [],
   "source": []
  }
 ],
 "metadata": {
  "kernelspec": {
   "display_name": "Julia 1.4.1",
   "language": "julia",
   "name": "julia-1.4"
  },
  "language_info": {
   "file_extension": ".jl",
   "mimetype": "application/julia",
   "name": "julia",
   "version": "1.4.2"
  }
 },
 "nbformat": 4,
 "nbformat_minor": 4
}
