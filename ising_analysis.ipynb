{
 "cells": [
  {
   "cell_type": "code",
   "execution_count": 1,
   "metadata": {},
   "outputs": [
    {
     "name": "stderr",
     "output_type": "stream",
     "text": [
      "┌ Info: Precompiling MBTrees [top-level]\n",
      "└ @ Base loading.jl:1260\n"
     ]
    }
   ],
   "source": [
    "push!(LOAD_PATH, pwd())\n",
    "\n",
    "using PyPlot, Statistics, CPUTime\n",
    "using SpinBodies, MBTrees;"
   ]
  },
  {
   "cell_type": "code",
   "execution_count": 3,
   "metadata": {},
   "outputs": [
    {
     "name": "stderr",
     "output_type": "stream",
     "text": [
      "WARNING: redefining constant N\n"
     ]
    }
   ],
   "source": [
    "const version = :tri\n",
    "const steps = 500000\n",
    "const N = 5\n",
    "\n",
    "const Ts = 0.1:0.1:4;"
   ]
  },
  {
   "cell_type": "code",
   "execution_count": 6,
   "metadata": {},
   "outputs": [
    {
     "ename": "InterruptException",
     "evalue": "InterruptException:",
     "output_type": "error",
     "traceback": [
      "InterruptException:",
      "",
      "Stacktrace:",
      " [1] vect(::Int64, ::Vararg{Any,N} where N) at ./array.jl:148",
      " [2] m at /Users/aaron/Projects/Ising/MBTrees.jl:38 [inlined]",
      " [3] (::MBTrees.var\"#4#8\"{SpinLattice})(::Tuple{Int64,Int64}) at ./none:0",
      " [4] iterate at ./generator.jl:47 [inlined]",
      " [5] collect_to!(::Array{Float64,1}, ::Base.Generator{Base.Iterators.Zip{Tuple{Array{Int64,1},Array{Int64,1}}},MBTrees.var\"#4#8\"{SpinLattice}}, ::Int64, ::Tuple{Int64,Int64}) at ./array.jl:710",
      " [6] collect_to_with_first! at ./array.jl:689 [inlined]",
      " [7] collect(::Base.Generator{Base.Iterators.Zip{Tuple{Array{Int64,1},Array{Int64,1}}},MBTrees.var\"#4#8\"{SpinLattice}}) at ./array.jl:670",
      " [8] tree_flip!(::SpinLattice, ::MBTree, ::Int64, ::Int64) at /Users/aaron/Projects/Ising/MBTrees.jl:118",
      " [9] freeman_step!(::SpinLattice, ::MBTree) at /Users/aaron/Projects/Ising/MBTrees.jl:96",
      " [10] macro expansion at ./In[6]:9 [inlined]",
      " [11] macro expansion at /Users/aaron/.julia/packages/CPUTime/bZJQO/src/CPUTime.jl:61 [inlined]",
      " [12] top-level scope at ./In[6]:8"
     ]
    }
   ],
   "source": [
    "freeman_data = []\n",
    "\n",
    "for T in Ts\n",
    "    lattice = SpinLattice(N, T)\n",
    "    tree = build_tree(lattice)\n",
    "    times = []\n",
    "    for i = 1:25\n",
    "        time = @CPUelapsed for step = 1:steps\n",
    "            freeman_step!(lattice, tree)\n",
    "        end\n",
    "        push!(times, time)\n",
    "    end\n",
    "    push!(freeman_data, mean(times))\n",
    "end"
   ]
  },
  {
   "cell_type": "code",
   "execution_count": 7,
   "metadata": {},
   "outputs": [
    {
     "ename": "UndefVarError",
     "evalue": "UndefVarError: freeman_fast_step! not defined",
     "output_type": "error",
     "traceback": [
      "UndefVarError: freeman_fast_step! not defined",
      "",
      "Stacktrace:",
      " [1] macro expansion at ./In[7]:9 [inlined]",
      " [2] macro expansion at /Users/aaron/.julia/packages/CPUTime/bZJQO/src/CPUTime.jl:61 [inlined]",
      " [3] top-level scope at ./In[7]:8"
     ]
    }
   ],
   "source": [
    "freeman_fast_data = []\n",
    "\n",
    "for T in Ts\n",
    "    lattice = SpinLattice(N, T)\n",
    "    tree = build_tree(lattice)\n",
    "    times = []\n",
    "    for i = 1:25\n",
    "        time = @CPUelapsed for step = 1:steps\n",
    "            freeman_fast_step!(lattice, tree)\n",
    "        end\n",
    "        push!(times, time)\n",
    "    end\n",
    "    push!(freeman_fast_data, mean(times))\n",
    "end"
   ]
  },
  {
   "cell_type": "code",
   "execution_count": 8,
   "metadata": {},
   "outputs": [
    {
     "ename": "InterruptException",
     "evalue": "InterruptException:",
     "output_type": "error",
     "traceback": [
      "InterruptException:",
      "",
      "Stacktrace:",
      " [1] vect(::Int64, ::Vararg{Any,N} where N) at ./array.jl:148",
      " [2] m at /Users/aaron/Projects/Ising/SpinBodies.jl:118 [inlined]",
      " [3] metropolis_step!(::SpinLattice) at /Users/aaron/Projects/Ising/SpinBodies.jl:126",
      " [4] macro expansion at ./In[8]:10 [inlined]",
      " [5] macro expansion at /Users/aaron/.julia/packages/CPUTime/bZJQO/src/CPUTime.jl:61 [inlined]",
      " [6] top-level scope at ./In[8]:9"
     ]
    }
   ],
   "source": [
    "metropolis_data = []\n",
    "metropolis_time_per_flip = []\n",
    "\n",
    "for T in Ts\n",
    "    lattice = SpinLattice(N, T)\n",
    "    times = []\n",
    "    flips = []\n",
    "    for i = 1:25\n",
    "        time = @CPUelapsed for step = 1:steps\n",
    "            metropolis_step!(lattice)\n",
    "        end\n",
    "        push!(times, time)\n",
    "        push!(flips, lattice.flips)\n",
    "    end\n",
    "    push!(metropolis_data, mean(times))\n",
    "    push!(metropolis_time_per_flip, mean(times) / mean(flips))\n",
    "end"
   ]
  },
  {
   "cell_type": "code",
   "execution_count": 8,
   "metadata": {},
   "outputs": [
    {
     "ename": "DimensionMismatch",
     "evalue": "DimensionMismatch(\"arrays could not be broadcast to a common size; got a dimension with lengths 12 and 0\")",
     "output_type": "error",
     "traceback": [
      "DimensionMismatch(\"arrays could not be broadcast to a common size; got a dimension with lengths 12 and 0\")",
      "",
      "Stacktrace:",
      " [1] _bcs1 at ./broadcast.jl:490 [inlined]",
      " [2] _bcs at ./broadcast.jl:484 [inlined]",
      " [3] broadcast_shape at ./broadcast.jl:478 [inlined]",
      " [4] combine_axes at ./broadcast.jl:473 [inlined]",
      " [5] instantiate at ./broadcast.jl:256 [inlined]",
      " [6] materialize(::Base.Broadcast.Broadcasted{Base.Broadcast.DefaultArrayStyle{1},Nothing,typeof(/),Tuple{Array{Any,1},Array{Any,1}}}) at ./broadcast.jl:820",
      " [7] top-level scope at In[8]:1"
     ]
    }
   ],
   "source": [
    "semilogy(Ts, freeman_data ./ metropolis_data)\n",
    "semilogy(Ts, freeman_fast_data ./ metropolis_data)\n",
    "legend([\"freeman_CPUtime / metropolis_CPUtime\", \"freeman_fast_CPUtime / metropolis_CPUtime\"])\n",
    "# savefig(\"freeman_CPUtime_per_metropolis_CPUtime.pdf\")"
   ]
  },
  {
   "cell_type": "code",
   "execution_count": 9,
   "metadata": {},
   "outputs": [
    {
     "ename": "BoundsError",
     "evalue": "BoundsError: attempt to access 0-element Array{Any,1} at index [0]",
     "output_type": "error",
     "traceback": [
      "BoundsError: attempt to access 0-element Array{Any,1} at index [0]",
      "",
      "Stacktrace:",
      " [1] getindex(::Array{Any,1}, ::Int64) at ./array.jl:787",
      " [2] top-level scope at In[9]:1"
     ]
    }
   ],
   "source": [
    "semilogy(Ts, metropolis_time_per_flip ./ metropolis_time_per_flip[end])\n",
    "legend([\"metropolis_CPUtime / flip\"])\n",
    "# savefig(\"metropolis_CPUtime_per_flip.pdf\")"
   ]
  },
  {
   "cell_type": "code",
   "execution_count": null,
   "metadata": {},
   "outputs": [],
   "source": []
  }
 ],
 "metadata": {
  "kernelspec": {
   "display_name": "Julia 1.4.0",
   "language": "julia",
   "name": "julia-1.4"
  },
  "language_info": {
   "file_extension": ".jl",
   "mimetype": "application/julia",
   "name": "julia",
   "version": "1.4.0"
  }
 },
 "nbformat": 4,
 "nbformat_minor": 4
}
