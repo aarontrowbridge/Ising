{
 "cells": [
  {
   "cell_type": "code",
   "execution_count": null,
   "metadata": {},
   "outputs": [],
   "source": [
    "push!(LOAD_PATH, pwd())\n",
    "\n",
    "using PyPlot, Statistics, CPUTime\n",
    "using SpinBodies, MBTrees;"
   ]
  },
  {
   "cell_type": "code",
   "execution_count": null,
   "metadata": {},
   "outputs": [],
   "source": [
    "const version = :tri\n",
    "const steps = 500000\n",
    "const N = 5\n",
    "\n",
    "const Ts = 0.1:0.1:4;"
   ]
  },
  {
   "cell_type": "code",
   "execution_count": null,
   "metadata": {},
   "outputs": [],
   "source": [
    "freeman_data = []\n",
    "\n",
    "for T in Ts\n",
    "    lattice = SpinLattice(N, T)\n",
    "    tree = build_tree(lattice)\n",
    "    times = []\n",
    "    for i = 1:25\n",
    "        time = @CPUelapsed for step = 1:steps\n",
    "            freeman_step!(lattice, tree)\n",
    "        end\n",
    "        push!(times, time)\n",
    "    end\n",
    "    push!(freeman_data, mean(times))\n",
    "end"
   ]
  },
  {
   "cell_type": "code",
   "execution_count": null,
   "metadata": {},
   "outputs": [],
   "source": [
    "freeman_fast_data = []\n",
    "\n",
    "for T in Ts\n",
    "    lattice = SpinLattice(N, T)\n",
    "    tree = build_tree(lattice)\n",
    "    times = []\n",
    "    for i = 1:25\n",
    "        time = @CPUelapsed for step = 1:steps\n",
    "            freeman_fast_step!(lattice, tree)\n",
    "        end\n",
    "        push!(times, time)\n",
    "    end\n",
    "    push!(freeman_fast_data, mean(times))\n",
    "end"
   ]
  },
  {
   "cell_type": "code",
   "execution_count": null,
   "metadata": {},
   "outputs": [],
   "source": [
    "metropolis_data = []\n",
    "metropolis_time_per_flip = []\n",
    "\n",
    "for T in Ts\n",
    "    lattice = SpinLattice(N, T)\n",
    "    times = []\n",
    "    flips = []\n",
    "    for i = 1:25\n",
    "        time = @CPUelapsed for step = 1:steps\n",
    "            metropolis_step!(lattice)\n",
    "        end\n",
    "        push!(times, time)\n",
    "        push!(flips, lattice.flips)\n",
    "    end\n",
    "    push!(metropolis_data, mean(times))\n",
    "    push!(metropolis_time_per_flip, mean(times) / mean(flips))\n",
    "end"
   ]
  },
  {
   "cell_type": "code",
   "execution_count": null,
   "metadata": {},
   "outputs": [],
   "source": [
    "semilogy(Ts, freeman_data ./ metropolis_data)\n",
    "semilogy(Ts, freeman_fast_data ./ metropolis_data)\n",
    "legend([\"freeman_CPUtime / metropolis_CPUtime\", \"freeman_fast_CPUtime / metropolis_CPUtime\"])\n",
    "# savefig(\"freeman_CPUtime_per_metropolis_CPUtime.pdf\")"
   ]
  },
  {
   "cell_type": "code",
   "execution_count": null,
   "metadata": {},
   "outputs": [],
   "source": [
    "semilogy(Ts, metropolis_time_per_flip ./ metropolis_time_per_flip[end])\n",
    "legend([\"metropolis_CPUtime / flip\"])\n",
    "# savefig(\"metropolis_CPUtime_per_flip.pdf\")"
   ]
  },
  {
   "cell_type": "code",
   "execution_count": null,
   "metadata": {},
   "outputs": [],
   "source": []
  }
 ],
 "metadata": {
  "kernelspec": {
   "display_name": "Julia 1.4.0",
   "language": "julia",
   "name": "julia-1.4"
  },
  "language_info": {
   "file_extension": ".jl",
   "mimetype": "application/julia",
   "name": "julia",
   "version": "1.4.0"
  }
 },
 "nbformat": 4,
 "nbformat_minor": 4
}
