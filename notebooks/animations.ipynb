{
 "cells": [
  {
   "cell_type": "code",
   "execution_count": 1,
   "metadata": {},
   "outputs": [
    {
     "data": {
      "text/plain": [
       "5-element Array{String,1}:\n",
       " \"@\"\n",
       " \"@v#.#\"\n",
       " \"@stdlib\"\n",
       " \"/home/aaron/JuliaModules/\"\n",
       " \"/home/aaron/projects/Ising/src/Julia\""
      ]
     },
     "execution_count": 1,
     "metadata": {},
     "output_type": "execute_result"
    }
   ],
   "source": [
    "push!(LOAD_PATH, \"/home/aaron/projects/Ising/src/Julia\")"
   ]
  },
  {
   "cell_type": "code",
   "execution_count": 2,
   "metadata": {},
   "outputs": [
    {
     "name": "stderr",
     "output_type": "stream",
     "text": [
      "┌ Info: Precompiling SpinBodies [top-level]\n",
      "└ @ Base loading.jl:1278\n"
     ]
    }
   ],
   "source": [
    "using SpinBodies, WalterMethod\n",
    "using PyPlot"
   ]
  },
  {
   "cell_type": "code",
   "execution_count": 3,
   "metadata": {},
   "outputs": [],
   "source": [
    "function metropolis(num, temp; itr=1e6, skip=1e2)\n",
    "    lattice = SpinLattice(num, temp)\n",
    "    fig, ax = PyPlot.subplots()\n",
    "    while lattice.steps < itr\n",
    "        metropolis_step!(lattice)\n",
    "        if lattice.steps % skip == 0\n",
    "            ax.cla()\n",
    "            ax.matshow(visualize(lattice))\n",
    "            display(fig)\n",
    "            PyPlot.pause(0.0001)\n",
    "            IJulia.clear_output(true)\n",
    "        end\n",
    "    end\n",
    "end;"
   ]
  },
  {
   "cell_type": "code",
   "execution_count": 4,
   "metadata": {},
   "outputs": [],
   "source": [
    "function walter(num, temp; itr=1e6, skip=1e2)\n",
    "    lattice = SpinLattice(num, temp)\n",
    "    tree = WalterTree(ps(lattice))\n",
    "    fig, ax = PyPlot.subplots()\n",
    "    while lattice.steps < itr\n",
    "        walter_step!(lattice, tree)\n",
    "        if lattice.steps % skip == 0\n",
    "            ax.cla()\n",
    "            ax.matshow(visualize(lattice))\n",
    "            display(fig)\n",
    "            PyPlot.pause(0.0001)\n",
    "            IJulia.clear_output(true)\n",
    "        end\n",
    "    end\n",
    "end;"
   ]
  },
  {
   "cell_type": "code",
   "execution_count": 5,
   "metadata": {},
   "outputs": [
    {
     "ename": "LoadError",
     "evalue": "SYSTEM: show(lasterr) caused an error",
     "output_type": "error",
     "traceback": [
      "SYSTEM: show(lasterr) caused an error",
      "",
      "Stacktrace:",
      " [1] getindex at ./tuple.jl:24 [inlined]",
      " [2] iterate at ./tuple.jl:61 [inlined]",
      " [3] copyto!(::Array{Float64,1}, ::Tuple{Int64,Float64}) at ./abstractarray.jl:737",
      " [4] vect(::Int64, ::Vararg{Any,N} where N) at ./array.jl:151",
      " [5] prb at /home/aaron/projects/Ising/src/Julia/SpinBodies.jl:61 [inlined]",
      " [6] metropolis_step!(::SpinLattice) at /home/aaron/projects/Ising/src/Julia/SpinBodies.jl:133",
      " [7] metropolis(::Int64, ::Float64; itr::Float64, skip::Float64) at ./In[3]:5",
      " [8] top-level scope at In[5]:1",
      " [9] include_string(::Function, ::Module, ::String, ::String) at ./loading.jl:1091"
     ]
    }
   ],
   "source": [
    "metropolis(80, 1.0, itr=1e8, skip=1e5)"
   ]
  },
  {
   "cell_type": "code",
   "execution_count": null,
   "metadata": {},
   "outputs": [],
   "source": []
  }
 ],
 "metadata": {
  "kernelspec": {
   "display_name": "Julia 1.5.1",
   "language": "julia",
   "name": "julia-1.5"
  },
  "language_info": {
   "file_extension": ".jl",
   "mimetype": "application/julia",
   "name": "julia",
   "version": "1.5.1"
  }
 },
 "nbformat": 4,
 "nbformat_minor": 4
}
