{
 "cells": [
  {
   "cell_type": "code",
   "execution_count": 4,
   "metadata": {},
   "outputs": [
    {
     "data": {
      "text/plain": [
       "8"
      ]
     },
     "execution_count": 4,
     "metadata": {},
     "output_type": "execute_result"
    }
   ],
   "source": [
    "Threads.nthreads()"
   ]
  },
  {
   "cell_type": "code",
   "execution_count": 5,
   "metadata": {},
   "outputs": [],
   "source": [
    "push!(LOAD_PATH, \"/home/aaron/projects/Ising/src/Julia\");"
   ]
  },
  {
   "cell_type": "code",
   "execution_count": 6,
   "metadata": {},
   "outputs": [],
   "source": [
    "using SpinBodies, WalterMethod\n",
    "using PyPlot"
   ]
  },
  {
   "cell_type": "code",
   "execution_count": 4,
   "metadata": {},
   "outputs": [],
   "source": [
    "n = 2^1\n",
    "T = 2.0;"
   ]
  },
  {
   "cell_type": "code",
   "execution_count": 16,
   "metadata": {},
   "outputs": [
    {
     "ename": "LoadError",
     "evalue": "BoundsError: attempt to access 2×2 Array{SpinBody,2} at index [2, 6]",
     "output_type": "error",
     "traceback": [
      "BoundsError: attempt to access 2×2 Array{SpinBody,2} at index [2, 6]",
      "",
      "Stacktrace:",
      " [1] getindex at ./array.jl:810 [inlined]",
      " [2] walter_step!(::SpinLattice, ::WalterTree) at /home/aaron/projects/Ising/src/Julia/SpinBodies.jl:148",
      " [3] top-level scope at ./In[16]:6",
      " [4] include_string(::Function, ::Module, ::String, ::String) at ./loading.jl:1091"
     ]
    }
   ],
   "source": [
    "lattice = SpinLattice(n, T)\n",
    "ps = vec([lattice.f(-2b.E, T) for b in lattice.bs])\n",
    "tree = WalterTree(ps)\n",
    "fig, ax = PyPlot.subplots()\n",
    "for i = 1:1e5\n",
    "    walter_step!(lattice, tree)\n",
    "    if i % 100 == 0\n",
    "        ax.cla()\n",
    "        ax.matshow(visualize(lattice))\n",
    "        display(fig)\n",
    "        PyPlot.pause(0.01)\n",
    "        IJulia.clear_output(true)\n",
    "    end\n",
    "end"
   ]
  },
  {
   "cell_type": "code",
   "execution_count": 32,
   "metadata": {},
   "outputs": [],
   "source": [
    "T = 1.0\n",
    "threads = Threads.nthreads()\n",
    "pstart = 2\n",
    "steps = 1e5\n",
    "data = Vector{Float64}(undef, threads-1);"
   ]
  },
  {
   "cell_type": "code",
   "execution_count": 33,
   "metadata": {},
   "outputs": [],
   "source": [
    "for p in pstart:pstart+threads-2\n",
    "    n = 2^p\n",
    "    lattice = SpinLattice(n, T)\n",
    "    ps = vec([lattice.f(-2b.E, T) for b in lattice.bs])\n",
    "    tree = WalterTree(ps)\n",
    "    time = @elapsed for _ in 1:steps\n",
    "        walter_step!(lattice, tree)\n",
    "    end\n",
    "    data[p-pstart+1] = time / steps\n",
    "end"
   ]
  },
  {
   "cell_type": "code",
   "execution_count": 49,
   "metadata": {},
   "outputs": [
    {
     "data": {
      "image/png": "[encoded data removed]",
      "text/plain": [
       "Figure(PyObject <Figure size 640x480 with 1 Axes>)"
      ]
     },
     "metadata": {},
     "output_type": "display_data"
    }
   ],
   "source": [
    "fig, ax = PyPlot.subplots()\n",
    "ns = [(2^p)^2 for p in pstart:pstart+threads-2]\n",
    "ax.plot(ns, data)\n",
    "ax.scatter(ns, data)\n",
    "savefig(\"scaling\")"
   ]
  },
  {
   "cell_type": "code",
   "execution_count": 48,
   "metadata": {},
   "outputs": [
    {
     "ename": "LoadError",
     "evalue": "PyError ($(Expr(:escape, :(ccall(#= /home/aaron/.julia/packages/PyCall/l64G5/src/pyfncall.jl:43 =# @pysym(:PyObject_Call), PyPtr, (PyPtr, PyPtr, PyPtr), o, pyargsptr, kw))))) <class 'TypeError'>\nTypeError('savefig() takes 2 positional arguments but 3 were given')\n  File \"/home/aaron/.local/lib/python3.8/site-packages/matplotlib/pyplot.py\", line 723, in savefig\n    res = fig.savefig(*args, **kwargs)\n",
     "output_type": "error",
     "traceback": [
      "PyError ($(Expr(:escape, :(ccall(#= /home/aaron/.julia/packages/PyCall/l64G5/src/pyfncall.jl:43 =# @pysym(:PyObject_Call), PyPtr, (PyPtr, PyPtr, PyPtr), o, pyargsptr, kw))))) <class 'TypeError'>\nTypeError('savefig() takes 2 positional arguments but 3 were given')\n  File \"/home/aaron/.local/lib/python3.8/site-packages/matplotlib/pyplot.py\", line 723, in savefig\n    res = fig.savefig(*args, **kwargs)\n",
      "",
      "Stacktrace:",
      " [1] pyerr_check at /home/aaron/.julia/packages/PyCall/l64G5/src/exception.jl:62 [inlined]",
      " [2] pyerr_check at /home/aaron/.julia/packages/PyCall/l64G5/src/exception.jl:66 [inlined]",
      " [3] _handle_error(::String) at /home/aaron/.julia/packages/PyCall/l64G5/src/exception.jl:83",
      " [4] macro expansion at /home/aaron/.julia/packages/PyCall/l64G5/src/exception.jl:97 [inlined]",
      " [5] #110 at /home/aaron/.julia/packages/PyCall/l64G5/src/pyfncall.jl:43 [inlined]",
      " [6] disable_sigint at ./c.jl:446 [inlined]",
      " [7] __pycall! at /home/aaron/.julia/packages/PyCall/l64G5/src/pyfncall.jl:42 [inlined]",
      " [8] _pycall!(::PyCall.PyObject, ::PyCall.PyObject, ::Tuple{Figure,String}, ::Int64, ::Ptr{Nothing}) at /home/aaron/.julia/packages/PyCall/l64G5/src/pyfncall.jl:29",
      " [9] _pycall!(::PyCall.PyObject, ::PyCall.PyObject, ::Tuple{Figure,String}, ::Base.Iterators.Pairs{Union{},Union{},Tuple{},NamedTuple{(),Tuple{}}}) at /home/aaron/.julia/packages/PyCall/l64G5/src/pyfncall.jl:11",
      " [10] pycall(::PyCall.PyObject, ::Type{PyCall.PyAny}, ::Figure, ::Vararg{Any,N} where N; kwargs::Base.Iterators.Pairs{Union{},Union{},Tuple{},NamedTuple{(),Tuple{}}}) at /home/aaron/.julia/packages/PyCall/l64G5/src/pyfncall.jl:83",
      " [11] pycall(::PyCall.PyObject, ::Type{PyCall.PyAny}, ::Figure, ::Vararg{Any,N} where N) at /home/aaron/.julia/packages/PyCall/l64G5/src/pyfncall.jl:83",
      " [12] savefig(::Figure, ::Vararg{Any,N} where N; kws::Base.Iterators.Pairs{Union{},Union{},Tuple{},NamedTuple{(),Tuple{}}}) at /home/aaron/.julia/packages/PyPlot/XHEG0/src/PyPlot.jl:177",
      " [13] savefig(::Figure, ::Vararg{Any,N} where N) at /home/aaron/.julia/packages/PyPlot/XHEG0/src/PyPlot.jl:174",
      " [14] top-level scope at In[48]:1",
      " [15] include_string(::Function, ::Module, ::String, ::String) at ./loading.jl:1091"
     ]
    }
   ],
   "source": [
    "PyPlot.savefig(fig, \"scaling.pdf\")"
   ]
  },
  {
   "cell_type": "code",
   "execution_count": null,
   "metadata": {},
   "outputs": [],
   "source": []
  }
 ],
 "metadata": {
  "kernelspec": {
   "display_name": "Julia 1.5.1",
   "language": "julia",
   "name": "julia-1.5"
  },
  "language_info": {
   "file_extension": ".jl",
   "mimetype": "application/julia",
   "name": "julia",
   "version": "1.5.1"
  }
 },
 "nbformat": 4,
 "nbformat_minor": 4
}
