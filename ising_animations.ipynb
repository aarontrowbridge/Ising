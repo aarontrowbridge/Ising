{
 "cells": [
  {
   "cell_type": "code",
   "execution_count": 4,
   "metadata": {},
   "outputs": [],
   "source": [
    "push!(LOAD_PATH, pwd())\n",
    "\n",
    "using SpinBodies, MBTrees;"
   ]
  },
  {
   "cell_type": "code",
   "execution_count": 5,
   "metadata": {},
   "outputs": [],
   "source": [
    "using PyPlot"
   ]
  },
  {
   "cell_type": "code",
   "execution_count": 6,
   "metadata": {},
   "outputs": [],
   "source": [
    "const steps = 1e6\n",
    "const frameskip = 500\n",
    "\n",
    "const N = 50\n",
    "const T = 0.01;"
   ]
  },
  {
   "cell_type": "code",
   "execution_count": 7,
   "metadata": {},
   "outputs": [],
   "source": [
    "init_lattice = SpinLattice(N, T);"
   ]
  },
  {
   "cell_type": "code",
   "execution_count": 8,
   "metadata": {},
   "outputs": [
    {
     "data": {
      "text/plain": [
       "animate_comparison (generic function with 1 method)"
      ]
     },
     "execution_count": 8,
     "metadata": {},
     "output_type": "execute_result"
    }
   ],
   "source": [
    "function animate_comparison()\n",
    "    lattice1 = SpinLattice(N, T)\n",
    "    lattice2 = SpinLattice(N, T)\n",
    "    tree1 = build_tree(lattice1)\n",
    "    tree2 = build_tree(lattice2)\n",
    "\n",
    "    fig, axs = PyPlot.subplots(1,2)\n",
    "\n",
    "    for step = 1:steps\n",
    "        freeman_step!(lattice1, tree1)\n",
    "        freeman_step_fast!(lattice2, tree2)\n",
    "        if step % frameskip == 0\n",
    "            vis1 = visualize(lattice1)\n",
    "            vis2 = visualize(lattice2)\n",
    "            axs[1].cla()\n",
    "            axs[1].matshow(vis1)\n",
    "            axs[2].cla()\n",
    "            axs[2].matshow(vis2)\n",
    "            PyPlot.pause(0.001)\n",
    "        end\n",
    "    end\n",
    "    println(lattice1.M, \" \", lattice2.M)\n",
    "end"
   ]
  },
  {
   "cell_type": "code",
   "execution_count": 43,
   "metadata": {},
   "outputs": [
    {
     "data": {
      "text/plain": [
       "animate_freeman (generic function with 1 method)"
      ]
     },
     "execution_count": 43,
     "metadata": {},
     "output_type": "execute_result"
    }
   ],
   "source": [
    "function animate_freeman()\n",
    "    lattice = copy(init_lattice)\n",
    "    tree = build_tree(lattice)\n",
    "    fig, ax = PyPlot.subplots()\n",
    "    for step = 1:steps\n",
    "        freeman_step!(lattice, tree)\n",
    "        if step % frameskip == 0\n",
    "            vis = visualize(lattice)\n",
    "            ax.cla()\n",
    "            ax.matshow(vis)\n",
    "            IJulia.clear_output(true)\n",
    "            display(fig)\n",
    "            PyPlot.pause(0.0001)\n",
    "        end\n",
    "    end\n",
    "end"
   ]
  },
  {
   "cell_type": "code",
   "execution_count": 44,
   "metadata": {},
   "outputs": [
    {
     "data": {
      "text/plain": [
       "freeman (generic function with 1 method)"
      ]
     },
     "execution_count": 44,
     "metadata": {},
     "output_type": "execute_result"
    }
   ],
   "source": [
    "function freeman()\n",
    "    lattice = copy(init_lattice)\n",
    "    tree = build_tree(lattice)\n",
    "    for step = 1:steps\n",
    "        freeman_step!(lattice, tree)\n",
    "    end\n",
    "    update_lattice!(lattice)\n",
    "    println(lattice.M)\n",
    "end"
   ]
  },
  {
   "cell_type": "code",
   "execution_count": 45,
   "metadata": {},
   "outputs": [
    {
     "data": {
      "text/plain": [
       "animate_freeman_fast (generic function with 1 method)"
      ]
     },
     "execution_count": 45,
     "metadata": {},
     "output_type": "execute_result"
    }
   ],
   "source": [
    "function animate_freeman_fast()\n",
    "    lattice = copy(init_lattice)\n",
    "    tree = build_tree(lattice)\n",
    "\n",
    "    fig, ax = PyPlot.subplots()\n",
    "\n",
    "    for step = 1:steps\n",
    "        freeman_step_fast!(lattice, tree)\n",
    "        if step % frameskip == 0\n",
    "            vis = visualize(lattice)\n",
    "            ax.cla()\n",
    "            ax.matshow(vis)\n",
    "            PyPlot.pause(0.0001)\n",
    "        end\n",
    "    end\n",
    "end"
   ]
  },
  {
   "cell_type": "code",
   "execution_count": 46,
   "metadata": {},
   "outputs": [
    {
     "data": {
      "text/plain": [
       "freeman_fast (generic function with 1 method)"
      ]
     },
     "execution_count": 46,
     "metadata": {},
     "output_type": "execute_result"
    }
   ],
   "source": [
    "function freeman_fast()\n",
    "    lattice = copy(init_lattice)\n",
    "    tree = build_tree(lattice)\n",
    "    for step = 1:steps\n",
    "        freeman_step_fast!(lattice, tree)\n",
    "    end\n",
    "    update_lattice!(lattice)\n",
    "    println(lattice.M)\n",
    "end"
   ]
  },
  {
   "cell_type": "code",
   "execution_count": 47,
   "metadata": {},
   "outputs": [
    {
     "data": {
      "text/plain": [
       "animate_metropolis (generic function with 1 method)"
      ]
     },
     "execution_count": 47,
     "metadata": {},
     "output_type": "execute_result"
    }
   ],
   "source": [
    "pygui(:qt5)\n",
    "function animate_metropolis()\n",
    "    lattice = copy(init_lattice)\n",
    "    fig, ax = PyPlot.subplots()\n",
    "\n",
    "    for step = 1:steps\n",
    "        metropolis_step!(lattice)\n",
    "        if step % frameskip == 0\n",
    "            println(step)\n",
    "            vis = visualize(lattice)\n",
    "            ax.cla()\n",
    "            ax.matshow(vis)\n",
    "            IJulia.clear_output(true)\n",
    "            display(fig)\n",
    "            PyPlot.pause(0.0001)\n",
    "        end\n",
    "    end\n",
    "end"
   ]
  },
  {
   "cell_type": "code",
   "execution_count": 48,
   "metadata": {},
   "outputs": [
    {
     "data": {
      "text/plain": [
       "metropolis (generic function with 1 method)"
      ]
     },
     "execution_count": 48,
     "metadata": {},
     "output_type": "execute_result"
    }
   ],
   "source": [
    "function metropolis()\n",
    "    lattice = copy(init_lattice)\n",
    "    for step = 1:steps\n",
    "        metropolis_step!(lattice)\n",
    "    end\n",
    "    update_lattice!(lattice)\n",
    "    println(lattice.M)\n",
    "end"
   ]
  },
  {
   "cell_type": "code",
   "execution_count": null,
   "metadata": {},
   "outputs": [],
   "source": []
  },
  {
   "cell_type": "code",
   "execution_count": 53,
   "metadata": {},
   "outputs": [
    {
     "data": {
      "image/png": "[encoded data removed]",
      "text/plain": [
       "Figure(PyObject <Figure size 640x480 with 1 Axes>)"
      ]
     },
     "metadata": {},
     "output_type": "display_data"
    },
    {
     "ename": "InterruptException",
     "evalue": "InterruptException:",
     "output_type": "error",
     "traceback": [
      "InterruptException:",
      "",
      "Stacktrace:",
      " [1] sigatomic_end at ./c.jl:425 [inlined]",
      " [2] disable_sigint at ./c.jl:448 [inlined]",
      " [3] __pycall! at /home/aaron/.julia/packages/PyCall/zqDXB/src/pyfncall.jl:42 [inlined]",
      " [4] _pycall!(::PyCall.PyObject, ::PyCall.PyObject, ::Tuple{Float64}, ::Int64, ::Ptr{Nothing}) at /home/aaron/.julia/packages/PyCall/zqDXB/src/pyfncall.jl:29",
      " [5] _pycall! at /home/aaron/.julia/packages/PyCall/zqDXB/src/pyfncall.jl:11 [inlined]",
      " [6] #pycall#116 at /home/aaron/.julia/packages/PyCall/zqDXB/src/pyfncall.jl:83 [inlined]",
      " [7] pycall at /home/aaron/.julia/packages/PyCall/zqDXB/src/pyfncall.jl:83 [inlined]",
      " [8] pause(::Float64; kws::Base.Iterators.Pairs{Union{},Union{},Tuple{},NamedTuple{(),Tuple{}}}) at /home/aaron/.julia/packages/PyPlot/XHEG0/src/PyPlot.jl:177",
      " [9] pause at /home/aaron/.julia/packages/PyPlot/XHEG0/src/PyPlot.jl:174 [inlined]",
      " [10] animate_metropolis() at ./In[47]:15",
      " [11] top-level scope at In[53]:1"
     ]
    }
   ],
   "source": [
    "animate_metropolis()"
   ]
  },
  {
   "cell_type": "code",
   "execution_count": 57,
   "metadata": {},
   "outputs": [
    {
     "data": {
      "image/png": "[encoded data removed]",
      "text/plain": [
       "Figure(PyObject <Figure size 640x480 with 1 Axes>)"
      ]
     },
     "metadata": {},
     "output_type": "display_data"
    },
    {
     "ename": "InterruptException",
     "evalue": "InterruptException:",
     "output_type": "error",
     "traceback": [
      "InterruptException:",
      "",
      "Stacktrace:",
      " [1] sigatomic_end at ./c.jl:425 [inlined]",
      " [2] disable_sigint at ./c.jl:448 [inlined]",
      " [3] __pycall! at /home/aaron/.julia/packages/PyCall/zqDXB/src/pyfncall.jl:42 [inlined]",
      " [4] _pycall!(::PyCall.PyObject, ::PyCall.PyObject, ::Tuple{Float64}, ::Int64, ::Ptr{Nothing}) at /home/aaron/.julia/packages/PyCall/zqDXB/src/pyfncall.jl:29",
      " [5] _pycall! at /home/aaron/.julia/packages/PyCall/zqDXB/src/pyfncall.jl:11 [inlined]",
      " [6] #pycall#116 at /home/aaron/.julia/packages/PyCall/zqDXB/src/pyfncall.jl:83 [inlined]",
      " [7] pycall at /home/aaron/.julia/packages/PyCall/zqDXB/src/pyfncall.jl:83 [inlined]",
      " [8] pause(::Float64; kws::Base.Iterators.Pairs{Union{},Union{},Tuple{},NamedTuple{(),Tuple{}}}) at /home/aaron/.julia/packages/PyPlot/XHEG0/src/PyPlot.jl:177",
      " [9] pause at /home/aaron/.julia/packages/PyPlot/XHEG0/src/PyPlot.jl:174 [inlined]",
      " [10] animate_freeman() at ./In[43]:13",
      " [11] top-level scope at In[57]:1"
     ]
    }
   ],
   "source": [
    "animate_freeman()"
   ]
  },
  {
   "cell_type": "code",
   "execution_count": null,
   "metadata": {},
   "outputs": [],
   "source": [
    "animate_freeman_fast()"
   ]
  },
  {
   "cell_type": "code",
   "execution_count": null,
   "metadata": {},
   "outputs": [],
   "source": [
    "animate_comparison()"
   ]
  },
  {
   "cell_type": "code",
   "execution_count": null,
   "metadata": {},
   "outputs": [],
   "source": [
    "@time freeman()"
   ]
  },
  {
   "cell_type": "code",
   "execution_count": null,
   "metadata": {},
   "outputs": [],
   "source": [
    "@time freeman_fast()"
   ]
  },
  {
   "cell_type": "code",
   "execution_count": null,
   "metadata": {},
   "outputs": [],
   "source": []
  }
 ],
 "metadata": {
  "kernelspec": {
   "display_name": "Julia 1.4.1",
   "language": "julia",
   "name": "julia-1.4"
  },
  "language_info": {
   "file_extension": ".jl",
   "mimetype": "application/julia",
   "name": "julia",
   "version": "1.4.2"
  }
 },
 "nbformat": 4,
 "nbformat_minor": 4
}
