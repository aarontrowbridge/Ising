{
 "cells": [
  {
   "cell_type": "code",
   "execution_count": 1,
   "metadata": {},
   "outputs": [
    {
     "name": "stderr",
     "output_type": "stream",
     "text": [
      "┌ Info: Precompiling SpinBodies [top-level]\n",
      "└ @ Base loading.jl:1260\n",
      "┌ Info: Precompiling MBTrees [top-level]\n",
      "└ @ Base loading.jl:1260\n"
     ]
    }
   ],
   "source": [
    "push!(LOAD_PATH, pwd())\n",
    "\n",
    "using SpinBodies, MBTrees;"
   ]
  },
  {
   "cell_type": "code",
   "execution_count": 2,
   "metadata": {},
   "outputs": [],
   "source": [
    "using PyPlot"
   ]
  },
  {
   "cell_type": "code",
   "execution_count": 3,
   "metadata": {},
   "outputs": [],
   "source": [
    "const max_steps = 1e6\n",
    "const frameskip = 500\n",
    "\n",
    "const N = 50\n",
    "const T = 01;"
   ]
  },
  {
   "cell_type": "code",
   "execution_count": 4,
   "metadata": {},
   "outputs": [],
   "source": [
    "init_lattice = SpinLattice(N, T);"
   ]
  },
  {
   "cell_type": "code",
   "execution_count": 5,
   "metadata": {},
   "outputs": [
    {
     "data": {
      "text/plain": [
       "animate_comparison (generic function with 1 method)"
      ]
     },
     "execution_count": 5,
     "metadata": {},
     "output_type": "execute_result"
    }
   ],
   "source": [
    "function animate_freeman(;fast=false)\n",
    "    lattice = copy(init_lattice)\n",
    "    tree = build_tree(lattice)\n",
    "    fig, axs = PyPlot.subplots(1,2)\n",
    "    Es = []\n",
    "    Ms = []\n",
    "    steps = []\n",
    "    for step = 1:max_steps\n",
    "        freeman_step!(lattice, tree, fast=fast)\n",
    "        if step % frameskip == 0\n",
    "            update_lattice!(lattice)\n",
    "            push!(Es, lattice.E)\n",
    "            push!(Ms, lattice.M)\n",
    "            push!(steps, lattice.steps)\n",
    "            vis = visualize(lattice)\n",
    "            axs[1].cla()\n",
    "            axs[1].matshow(vis)\n",
    "            axs[2].cla()\n",
    "            axs[2].plot(steps, Es)\n",
    "            axs[2].plot(steps, Ms)\n",
    "            axs[2].legend([\"avg E\", \"avg M\"])\n",
    "            display(fig)\n",
    "            PyPlot.pause(0.0001)\n",

    "            IJulia.clear_output(true)\n",
    "        end\n",
    "    end\n",
    "end"
   ]
  },
  {
   "cell_type": "code",
   "execution_count": 9,
   "metadata": {},
   "outputs": [
    {
     "data": {
      "text/plain": [
       "freeman_fast (generic function with 1 method)"
      ]
     },
     "execution_count": 9,
     "metadata": {},
     "output_type": "execute_result"
    }
   ],
   "source": [
    "function animate_metropolis(;fast=false)\n",
    "    lattice = copy(init_lattice)\n",
    "    fig, axs = PyPlot.subplots(1,2)\n",
    "    Es = []\n",
    "    Ms = []\n",
    "    steps = []\n",
    "    while lattice.steps < max_steps\n",
    "        metropolis_step!(lattice, fast=fast)\n",
    "        if lattice.steps % frameskip == 0\n",
    "            update_lattice!(lattice)\n",
    "            push!(Es, lattice.E)\n",
    "            push!(Ms, lattice.M)\n",
    "            push!(steps, lattice.steps)\n",
    "            vis = visualize(lattice)\n",
    "            axs[1].cla()\n",
    "            axs[1].matshow(vis)\n",
    "            axs[2].cla()\n",
    "            axs[2].plot(steps, Es)\n",
    "            axs[2].plot(steps, Ms)\n",
    "            axs[2].legend([\"avg E\", \"avg M\"])\n",
    "            display(fig)\n",
    "            PyPlot.pause(0.0001)\n",
    "            IJulia.clear_output(true)\n",
    "        end\n",
    "    end\n",
    "end"
   ]
  },
  {
   "cell_type": "code",
   "execution_count": 11,
   "metadata": {},
   "outputs": [],
   "source": []
  },
  {
   "cell_type": "code",
   "execution_count": null,
   "metadata": {},
   "outputs": [],
   "source": [
    "animate_freeman(fast=false)"
   ]
  },
  {
   "cell_type": "code",
   "execution_count": null,
   "metadata": {},
   "outputs": [],
   "source": []
  }
 ],
 "metadata": {
  "kernelspec": {
   "display_name": "Julia 1.4.1",
   "language": "julia",
   "name": "julia-1.4"
  },
  "language_info": {
   "file_extension": ".jl",
   "mimetype": "application/julia",
   "name": "julia",
   "version": "1.4.2"
  }
 },
 "nbformat": 4,
 "nbformat_minor": 4
}
