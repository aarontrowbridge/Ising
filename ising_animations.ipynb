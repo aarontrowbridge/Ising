{
 "cells": [
  {
   "cell_type": "code",
   "execution_count": 8,
   "metadata": {},
   "outputs": [],
   "source": [
    "push!(LOAD_PATH, pwd())\n",
    "\n",
    "using SpinBodies, MBTrees;"
   ]
  },
  {
   "cell_type": "code",
   "execution_count": 9,
   "metadata": {},
   "outputs": [],
   "source": [
    "using PyPlot"
   ]
  },
  {
   "cell_type": "code",
   "execution_count": 10,
   "metadata": {},
   "outputs": [],
   "source": [
    "N = 25\n",
    "T = 1.0;"
   ]
  },
  {
   "cell_type": "code",
   "execution_count": 11,
   "metadata": {},
   "outputs": [],
   "source": [
    "init_lattice(;f=amp) = SpinLattice(N, T, f=f);"
   ]
  },
  {
   "cell_type": "code",
   "execution_count": 12,
   "metadata": {},
   "outputs": [],
   "source": [
    "max_steps = 1000000\n",
    "frameskip = 100;"
   ]
  },
  {
   "cell_type": "code",
   "execution_count": null,
   "metadata": {},
   "outputs": [],
   "source": [
    "function animate_freeman(;fast=false, f=prb)\n",
    "    lattice = copy(init_lattice(f))\n",
    "    tree = build_tree(lattice)\n",
    "    fig, axs = PyPlot.subplots(1,2)\n",
    "    Es = []\n",
    "    Ms = []\n",
    "    steps = []\n",
    "    while lattice.steps < max_steps\n",
    "        freeman_step!(lattice, tree, fast=fast)\n",
    "        if lattice.steps % frameskip == 0\n",
    "            update_lattice!(lattice)\n",
    "            push!(Es, lattice.E)\n",
    "            push!(Ms, lattice.M)\n",
    "            push!(steps, lattice.steps)\n",
    "            vis = visualize(lattice)\n",
    "            axs[1].cla()\n",
    "            axs[1].matshow(vis)\n",
    "            axs[2].cla()\n",
    "            axs[2].plot(steps, Es)\n",
    "            axs[2].plot(steps, Ms)\n",
    "            axs[2].legend([\"avg E\", \"avg M\"])\n",
    "            display(fig)\n",
    "            PyPlot.pause(0.0001)\n",
    "            IJulia.clear_output(true)\n",
    "        end\n",
    "    end\n",
    "end"
   ]
  },
  {
   "cell_type": "code",
   "execution_count": 13,
   "metadata": {},
   "outputs": [
    {
     "data": {
      "text/plain": [
       "animate_freeman_vec (generic function with 1 method)"
      ]
     },
     "execution_count": 13,
     "metadata": {},
     "output_type": "execute_result"
    }
   ],
   "source": [
    "function animate_freeman_vec()\n",
    "    lattice = copy(init_lattice())\n",
    "    tree = TreeVec(lattice)\n",
    "    fig, axs = PyPlot.subplots(1,2)\n",
    "    Es = []\n",
    "    Ms = []\n",
    "    steps = []\n",
    "    while lattice.steps < max_steps\n",
    "        treevecstep!(lattice, tree)\n",
    "        if lattice.steps % frameskip == 0\n",
    "            update_lattice!(lattice)\n",
    "            push!(Es, lattice.E)\n",
    "            push!(Ms, lattice.M)\n",
    "            push!(steps, lattice.steps)\n",
    "            vis = visualize(lattice)\n",
    "            axs[1].cla()\n",
    "            axs[1].matshow(vis)\n",
    "            axs[2].cla()\n",
    "            axs[2].plot(steps, Es)\n",
    "            axs[2].plot(steps, Ms)\n",
    "            axs[2].legend([\"avg E\", \"avg M\"])\n",
    "            display(fig)\n",
    "            PyPlot.pause(0.0001)\n",
    "            IJulia.clear_output(true)\n",
    "        end\n",
    "    end\n",
    "end"
   ]
  },
  {
   "cell_type": "code",
   "execution_count": null,
   "metadata": {},
   "outputs": [],
   "source": [
    "function animate_metropolis(;fast=false, f=prb)\n",
    "    lattice = copy(init_lattice(f))\n",
    "    fig, axs = PyPlot.subplots(1,2)\n",
    "    Es = []\n",
    "    Ms = []\n",
    "    steps = []\n",
    "    while lattice.steps < max_steps\n",
    "        metropolis_step!(lattice, fast=fast)\n",
    "        if lattice.steps % frameskip == 0\n",
    "            update_lattice!(lattice)\n",
    "            push!(Es, lattice.E)\n",
    "            push!(Ms, lattice.M)\n",
    "            push!(steps, lattice.steps)\n",
    "            vis = visualize(lattice)\n",
    "            axs[1].cla()\n",
    "            axs[1].matshow(vis)\n",
    "            axs[2].cla()\n",
    "            axs[2].plot(steps, Es)\n",
    "            axs[2].plot(steps, Ms)\n",
    "            axs[2].legend([\"avg E\", \"avg M\"])\n",
    "            display(fig)\n",
    "            PyPlot.pause(0.0001)\n",
    "            IJulia.clear_output(true)\n",
    "        end\n",
    "    end\n",
    "end"
   ]
  },
  {
   "cell_type": "code",
   "execution_count": null,
   "metadata": {},
   "outputs": [],
   "source": [
    "function freeman(;fast=false, f=prb)\n",
    "    lattice = copy(init_lattice(f))\n",
    "    tree = build_tree(lattice)\n",
    "    for i = 1:200\n",
    "        freeman_step!(lattice, tree, fast=fast)\n",
    "        println(tree.sum, \" \", tree.left.sum, \" \", tree.right.sum)\n",
    "    end\n",
    "end\n",
    "\n",
    "    "
   ]
  },
  {
   "cell_type": "code",
   "execution_count": 15,
   "metadata": {},
   "outputs": [
    {
     "data": {
      "text/plain": [
       "Figure(PyObject <Figure size 640x480 with 2 Axes>)"
      ]
     },
     "metadata": {},
     "output_type": "display_data"
    },
    {
     "ename": "InterruptException",
     "evalue": "InterruptException:",
     "output_type": "error",
     "traceback": [
      "InterruptException:",
      "",
      "Stacktrace:",
      " [1] sigatomic_end at ./c.jl:425 [inlined]",
      " [2] disable_sigint at ./c.jl:448 [inlined]",
      " [3] __pycall! at /home/aaron/.julia/packages/PyCall/zqDXB/src/pyfncall.jl:42 [inlined]",
      " [4] _pycall!(::PyCall.PyObject, ::PyCall.PyObject, ::Tuple{Float64}, ::Int64, ::Ptr{Nothing}) at /home/aaron/.julia/packages/PyCall/zqDXB/src/pyfncall.jl:29",
      " [5] _pycall! at /home/aaron/.julia/packages/PyCall/zqDXB/src/pyfncall.jl:11 [inlined]",
      " [6] #pycall#116 at /home/aaron/.julia/packages/PyCall/zqDXB/src/pyfncall.jl:83 [inlined]",
      " [7] pycall at /home/aaron/.julia/packages/PyCall/zqDXB/src/pyfncall.jl:83 [inlined]",
      " [8] pause(::Float64; kws::Base.Iterators.Pairs{Union{},Union{},Tuple{},NamedTuple{(),Tuple{}}}) at /home/aaron/.julia/packages/PyPlot/XHEG0/src/PyPlot.jl:177",
      " [9] pause at /home/aaron/.julia/packages/PyPlot/XHEG0/src/PyPlot.jl:174 [inlined]",
      " [10] animate_freeman_vec() at ./In[13]:23",
      " [11] top-level scope at In[15]:1"
     ]
    }
   ],
   "source": [
    "animate_freeman_vec()"
   ]
  },
  {
   "cell_type": "code",
   "execution_count": null,
   "metadata": {},
   "outputs": [],
   "source": [
    "exp(4/.25)"
   ]
  },
  {
   "cell_type": "code",
   "execution_count": null,
   "metadata": {},
   "outputs": [],
   "source": []
  },
  {
   "cell_type": "code",
   "execution_count": null,
   "metadata": {},
   "outputs": [],
   "source": []
  }
 ],
 "metadata": {
  "kernelspec": {
   "display_name": "Julia 1.4.1",
   "language": "julia",
   "name": "julia-1.4"
  },
  "language_info": {
   "file_extension": ".jl",
   "mimetype": "application/julia",
   "name": "julia",
   "version": "1.4.2"
  }
 },
 "nbformat": 4,
 "nbformat_minor": 4
}
