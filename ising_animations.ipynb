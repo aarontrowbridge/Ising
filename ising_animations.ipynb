{
 "cells": [
  {
   "cell_type": "code",
   "execution_count": 1,
   "metadata": {},
   "outputs": [
    {
     "name": "stderr",
     "output_type": "stream",
     "text": [
      "┌ Info: Precompiling MBTrees [top-level]\n",
      "└ @ Base loading.jl:1260\n"
     ]
    }
   ],
   "source": [
    "push!(LOAD_PATH, pwd())\n",
    "\n",
    "using SpinBodies, MBTrees;"
   ]
  },
  {
   "cell_type": "code",
   "execution_count": 2,
   "metadata": {},
   "outputs": [],
   "source": [
    "using PyPlot"
   ]
  },
  {
   "cell_type": "code",
   "execution_count": 3,
   "metadata": {},
   "outputs": [],
   "source": [
    "N = 25\n",
    "T = 0.5;"
   ]
  },
  {
   "cell_type": "code",
   "execution_count": 4,
   "metadata": {},
   "outputs": [],
   "source": [
    "init_lattice(f) = SpinLattice(N, T, f);"
   ]
  },
  {
   "cell_type": "code",
   "execution_count": 5,
   "metadata": {},
   "outputs": [
    {
     "data": {
      "text/plain": [
       "11"
      ]
     },
     "execution_count": 5,
     "metadata": {},
     "output_type": "execute_result"
    }
   ],
   "source": [
    "max_steps = 1000000\n",
    "frameskip = 11"
   ]
  },
  {
   "cell_type": "code",
   "execution_count": 6,
   "metadata": {},
   "outputs": [
    {
     "data": {
      "text/plain": [
       "animate_freeman (generic function with 1 method)"
      ]
     },
     "execution_count": 6,
     "metadata": {},
     "output_type": "execute_result"
    }
   ],
   "source": [
    "function animate_freeman(;fast=false, f=prb)\n",
    "    lattice = copy(init_lattice(f))\n",
    "    tree = build_tree(lattice)\n",
    "    fig, axs = PyPlot.subplots(1,2)\n",
    "    Es = []\n",
    "    Ms = []\n",
    "    steps = []\n",
    "    while lattice.steps < max_steps\n",
    "        freeman_step!(lattice, tree, fast=fast)\n",
    "        if lattice.steps % frameskip == 0\n",
    "            update_lattice!(lattice)\n",
    "            push!(Es, lattice.E)\n",
    "            push!(Ms, lattice.M)\n",
    "            push!(steps, lattice.steps)\n",
    "            vis = visualize(lattice)\n",
    "            axs[1].cla()\n",
    "            axs[1].matshow(vis)\n",
    "            axs[2].cla()\n",
    "            axs[2].plot(steps, Es)\n",
    "            axs[2].plot(steps, Ms)\n",
    "            axs[2].legend([\"avg E\", \"avg M\"])\n",
    "            display(fig)\n",
    "            PyPlot.pause(0.0001)\n",
    "            IJulia.clear_output(true)\n",
    "        end\n",
    "    end\n",
    "end"
   ]
  },
  {
   "cell_type": "code",
   "execution_count": 7,
   "metadata": {},
   "outputs": [
    {
     "data": {
      "text/plain": [
       "animate_metropolis (generic function with 1 method)"
      ]
     },
     "execution_count": 7,
     "metadata": {},
     "output_type": "execute_result"
    }
   ],
   "source": [
    "function animate_metropolis(;fast=false, f=prb)\n",
    "    lattice = copy(init_lattice(f))\n",
    "    fig, axs = PyPlot.subplots(1,2)\n",
    "    Es = []\n",
    "    Ms = []\n",
    "    steps = []\n",
    "    while lattice.steps < max_steps\n",
    "        metropolis_step!(lattice, fast=fast)\n",
    "        if lattice.steps % frameskip == 0\n",
    "            update_lattice!(lattice)\n",
    "            push!(Es, lattice.E)\n",
    "            push!(Ms, lattice.M)\n",
    "            push!(steps, lattice.steps)\n",
    "            vis = visualize(lattice)\n",
    "            axs[1].cla()\n",
    "            axs[1].matshow(vis)\n",
    "            axs[2].cla()\n",
    "            axs[2].plot(steps, Es)\n",
    "            axs[2].plot(steps, Ms)\n",
    "            axs[2].legend([\"avg E\", \"avg M\"])\n",
    "            display(fig)\n",
    "            PyPlot.pause(0.0001)\n",
    "            IJulia.clear_output(true)\n",
    "        end\n",
    "    end\n",
    "end"
   ]
  },
  {
   "cell_type": "code",
   "execution_count": 8,
   "metadata": {},
   "outputs": [
    {
     "data": {
      "text/plain": [
       "freeman (generic function with 1 method)"
      ]
     },
     "execution_count": 8,
     "metadata": {},
     "output_type": "execute_result"
    }
   ],
   "source": [
    "function freeman(;fast=false, f=prb)\n",
    "    lattice = copy(init_lattice(f))\n",
    "    tree = build_tree(lattice)\n",
    "    for i = 1:200\n",
    "        freeman_step!(lattice, tree, fast=fast)\n",
    "        println(tree.sum, \" \", tree.left.sum, \" \", tree.right.sum)\n",
    "    end\n",
    "end\n",
    "\n",
    "    "
   ]
  },
  {
   "cell_type": "code",
   "execution_count": 10,
   "metadata": {},
   "outputs": [
    {
     "ename": "InterruptException",
     "evalue": "InterruptException:",
     "output_type": "error",
     "traceback": [
      "InterruptException:",
      "",
      "Stacktrace:",
      " [1] sigatomic_end at ./c.jl:425 [inlined]",
      " [2] disable_sigint at ./c.jl:448 [inlined]",
      " [3] __pycall! at /Users/aaron/.julia/packages/PyCall/zqDXB/src/pyfncall.jl:42 [inlined]",
      " [4] _pycall!(::PyCall.PyObject, ::PyCall.PyObject, ::Tuple{}, ::Int64, ::Ptr{Nothing}) at /Users/aaron/.julia/packages/PyCall/zqDXB/src/pyfncall.jl:29",
      " [5] _pycall! at /Users/aaron/.julia/packages/PyCall/zqDXB/src/pyfncall.jl:11 [inlined]",
      " [6] #_#117 at /Users/aaron/.julia/packages/PyCall/zqDXB/src/pyfncall.jl:86 [inlined]",
      " [7] (::PyCall.PyObject)() at /Users/aaron/.julia/packages/PyCall/zqDXB/src/pyfncall.jl:86",
      " [8] animate_freeman(; fast::Bool, f::Function) at ./In[6]:16",
      " [9] top-level scope at In[10]:1"
     ]
    }
   ],
   "source": [
    "animate_freeman(fast=true, f=amp)"
   ]
  },
  {
   "cell_type": "code",
   "execution_count": 28,
   "metadata": {},
   "outputs": [
    {
     "data": {
      "text/plain": [
       "8.886110520507872e6"
      ]
     },
     "execution_count": 28,
     "metadata": {},
     "output_type": "execute_result"
    }
   ],
   "source": [
    "exp(4/.25)"
   ]
  },
  {
   "cell_type": "code",
   "execution_count": 20,
   "metadata": {},
   "outputs": [
    {
     "ename": "UndefVarError",
     "evalue": "UndefVarError: biggest not defined",
     "output_type": "error",
     "traceback": [
      "UndefVarError: biggest not defined",
      "",
      "Stacktrace:",
      " [1] top-level scope at In[20]:1"
     ]
    }
   ],
   "source": []
  },
  {
   "cell_type": "code",
   "execution_count": null,
   "metadata": {},
   "outputs": [],
   "source": []
  }
 ],
 "metadata": {
  "kernelspec": {
   "display_name": "Julia 1.4.0",
   "language": "julia",
   "name": "julia-1.4"
  },
  "language_info": {
   "file_extension": ".jl",
   "mimetype": "application/julia",
   "name": "julia",
   "version": "1.4.0"
  }
 },
 "nbformat": 4,
 "nbformat_minor": 4
}
