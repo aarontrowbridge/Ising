{
 "cells": [
  {
   "cell_type": "code",
   "execution_count": 1,
   "metadata": {},
   "outputs": [
    {
     "name": "stderr",
     "output_type": "stream",
     "text": [
      "┌ Info: Precompiling SpinBodies [top-level]\n",
      "└ @ Base loading.jl:1260\n",
      "┌ Info: Precompiling MBTrees [top-level]\n",
      "└ @ Base loading.jl:1260\n"
     ]
    }
   ],
   "source": [
    "push!(LOAD_PATH, pwd())\n",
    "\n",
    "using SpinBodies, MBTrees;"
   ]
  },
  {
   "cell_type": "code",
   "execution_count": 2,
   "metadata": {},
   "outputs": [],
   "source": [
    "using PyPlot"
   ]
  },
  {
   "cell_type": "code",
   "execution_count": 3,
   "metadata": {},
   "outputs": [],
   "source": [
    "const steps = 1e6\n",
    "const frameskip = 1\n",
    "\n",
    "const N = 5\n",
    "const T = 0.01;"
   ]
  },
  {
   "cell_type": "code",
   "execution_count": 4,
   "metadata": {},
   "outputs": [],
   "source": [
    "init_lattice = SpinLattice(N, T);"
   ]
  },
  {
   "cell_type": "code",
   "execution_count": 5,
   "metadata": {},
   "outputs": [
    {
     "data": {
      "text/plain": [
       "animate_comparison (generic function with 1 method)"
      ]
     },
     "execution_count": 5,
     "metadata": {},
     "output_type": "execute_result"
    }
   ],
   "source": [
    "function animate_comparison()\n",
    "    lattice1 = copy(init_lattice)\n",
    "    lattice2 = copy(init_lattice)\n",
    "    lattice3 = copy(init_lattice)\n",
    "    \n",
    "    tree1 = build_tree(lattice2)\n",
    "    tree2 = build_tree(lattice3)\n",
    "\n",
    "    fig, axs = PyPlot.subplots(1,3)\n",
    "\n",
    "    for step = 1:steps\n",
    "        metropolis_step!(lattice1)\n",
    "        freeman_step!(lattice2, tree1)\n",
    "        freeman_step_fast!(lattice3, tree2)\n",
    "        if step % frameskip == 0\n",
    "            vis1 = visualize(lattice1)\n",
    "            vis2 = visualize(lattice2)\n",
    "            vis3 = visualize(lattice3)\n",
    "            axs[1].cla()\n",
    "            axs[1].matshow(vis1)\n",
    "            axs[2].cla()\n",
    "            axs[2].matshow(vis2)\n",
    "            axs[3].cla()\n",
    "            axs[3].matshow(vis3)\n",
    "            display(fig)\n",
    "            PyPlot.pause(0.001)\n",
    "            IJulia.clear_output(true)\n",
    "        end\n",
    "    end\n",
    "end"
   ]
  },
  {
   "cell_type": "code",
   "execution_count": 6,
   "metadata": {},
   "outputs": [
    {
     "data": {
      "text/plain": [
       "animate_freeman (generic function with 1 method)"
      ]
     },
     "execution_count": 6,
     "metadata": {},
     "output_type": "execute_result"
    }
   ],
   "source": [
    "function animate_freeman()\n",
    "    lattice = copy(init_lattice)\n",
    "    tree = build_tree(lattice)\n",
    "    fig, ax = PyPlot.subplots()\n",
    "    for step = 1:steps\n",
    "        freeman_step!(lattice, tree)\n",
    "        if step % frameskip == 0\n",
    "            vis = visualize(lattice)\n",
    "            ax.cla()\n",
    "            ax.matshow(vis)\n",
    "            IJulia.clear_output(true)\n",
    "            display(fig)\n",
    "            PyPlot.pause(0.0001)\n",
    "        end\n",
    "    end\n",
    "end"
   ]
  },
  {
   "cell_type": "code",
   "execution_count": 7,
   "metadata": {},
   "outputs": [
    {
     "data": {
      "text/plain": [
       "freeman (generic function with 1 method)"
      ]
     },
     "execution_count": 7,
     "metadata": {},
     "output_type": "execute_result"
    }
   ],
   "source": [
    "function freeman()\n",
    "    lattice = copy(init_lattice)\n",
    "    tree = build_tree(lattice)\n",
    "    for step = 1:steps\n",
    "        freeman_step!(lattice, tree)\n",
    "    end\n",
    "    update_lattice!(lattice)\n",
    "    println(lattice.M)\n",
    "end"
   ]
  },
  {
   "cell_type": "code",
   "execution_count": 8,
   "metadata": {},
   "outputs": [
    {
     "data": {
      "text/plain": [
       "animate_freeman_fast (generic function with 1 method)"
      ]
     },
     "execution_count": 8,
     "metadata": {},
     "output_type": "execute_result"
    }
   ],
   "source": [
    "function animate_freeman_fast()\n",
    "    lattice = copy(init_lattice)\n",
    "    tree = build_tree(lattice)\n",
    "\n",
    "    fig, ax = PyPlot.subplots()\n",
    "\n",
    "    for step = 1:steps\n",
    "        freeman_step_fast!(lattice, tree)\n",
    "        if step % frameskip == 0\n",
    "            vis = visualize(lattice)\n",
    "            ax.cla()\n",
    "            ax.matshow(vis)\n",
    "            IJulia.clear_output(true)\n",
    "            display(fig)\n",
    "            PyPlot.pause(0.0001)\n",
    "        end\n",
    "    end\n",
    "end"
   ]
  },
  {
   "cell_type": "code",
   "execution_count": 9,
   "metadata": {},
   "outputs": [
    {
     "data": {
      "text/plain": [
       "freeman_fast (generic function with 1 method)"
      ]
     },
     "execution_count": 9,
     "metadata": {},
     "output_type": "execute_result"
    }
   ],
   "source": [
    "function freeman_fast()\n",
    "    lattice = copy(init_lattice)\n",
    "    tree = build_tree(lattice)\n",
    "    for step = 1:steps\n",
    "        freeman_step_fast!(lattice, tree)\n",
    "    end\n",
    "    update_lattice!(lattice)\n",
    "    println(lattice.M)\n",
    "end"
   ]
  },
  {
   "cell_type": "code",
   "execution_count": 10,
   "metadata": {},
   "outputs": [
    {
     "data": {
      "text/plain": [
       "animate_metropolis (generic function with 1 method)"
      ]
     },
     "execution_count": 10,
     "metadata": {},
     "output_type": "execute_result"
    }
   ],
   "source": [
    "function animate_metropolis()\n",
    "    lattice = copy(init_lattice)\n",
    "    fig, ax = PyPlot.subplots()\n",
    "\n",
    "    for step = 1:steps\n",
    "        metropolis_step!(lattice)\n",
    "        if step % frameskip == 0\n",
    "            vis = visualize(lattice)\n",
    "            ax.cla()\n",
    "            ax.matshow(vis)\n",
    "            IJulia.clear_output(true)\n",
    "            display(fig)\n",
    "            PyPlot.pause(0.0001)\n",
    "        end\n",
    "    end\n",
    "end"
   ]
  },
  {
   "cell_type": "code",
   "execution_count": 11,
   "metadata": {},
   "outputs": [
    {
     "data": {
      "text/plain": [
       "metropolis (generic function with 1 method)"
      ]
     },
     "execution_count": 11,
     "metadata": {},
     "output_type": "execute_result"
    }
   ],
   "source": [
    "function metropolis()\n",
    "    lattice = copy(init_lattice)\n",
    "    for step = 1:steps\n",
    "        metropolis_step!(lattice)\n",
    "    end\n",
    "    update_lattice!(lattice)\n",
    "    println(lattice.M)\n",
    "end"
   ]
  },
  {
   "cell_type": "code",
   "execution_count": null,
   "metadata": {},
   "outputs": [],
   "source": []
  },
  {
   "cell_type": "code",
   "execution_count": 68,
   "metadata": {},
   "outputs": [
    {
     "data": {
      "image/png": "[encoded data removed]",
      "text/plain": [
       "Figure(PyObject <Figure size 640x480 with 1 Axes>)"
      ]
     },
     "metadata": {},
     "output_type": "display_data"
    },
    {
     "ename": "InterruptException",
     "evalue": "InterruptException:",
     "output_type": "error",
     "traceback": [
      "InterruptException:",
      "",
      "Stacktrace:",
      " [1] sigatomic_end at ./c.jl:425 [inlined]",
      " [2] disable_sigint at ./c.jl:448 [inlined]",
      " [3] __pycall! at /Users/aaron/.julia/packages/PyCall/zqDXB/src/pyfncall.jl:42 [inlined]",
      " [4] _pycall!(::PyCall.PyObject, ::PyCall.PyObject, ::Tuple{}, ::Int64, ::Ptr{Nothing}) at /Users/aaron/.julia/packages/PyCall/zqDXB/src/pyfncall.jl:29",
      " [5] _pycall! at /Users/aaron/.julia/packages/PyCall/zqDXB/src/pyfncall.jl:11 [inlined]",
      " [6] #_#117 at /Users/aaron/.julia/packages/PyCall/zqDXB/src/pyfncall.jl:86 [inlined]",
      " [7] (::PyCall.PyObject)() at /Users/aaron/.julia/packages/PyCall/zqDXB/src/pyfncall.jl:86",
      " [8] animate_metropolis() at ./In[66]:9",
      " [9] top-level scope at In[68]:1"
     ]
    }
   ],
   "source": [
    "animate_metropolis()"
   ]
  },
  {
   "cell_type": "code",
   "execution_count": 69,
   "metadata": {},
   "outputs": [
    {
     "data": {
      "image/png": "[encoded data removed]",
      "text/plain": [
       "Figure(PyObject <Figure size 640x480 with 1 Axes>)"
      ]
     },
     "metadata": {},
     "output_type": "display_data"
    },
    {
     "ename": "InterruptException",
     "evalue": "InterruptException:",
     "output_type": "error",
     "traceback": [
      "InterruptException:",
      "",
      "Stacktrace:",
      " [1] sigatomic_end at ./c.jl:425 [inlined]",
      " [2] disable_sigint at ./c.jl:448 [inlined]",
      " [3] __pycall! at /Users/aaron/.julia/packages/PyCall/zqDXB/src/pyfncall.jl:42 [inlined]",
      " [4] _pycall!(::PyCall.PyObject, ::PyCall.PyObject, ::Tuple{Float64}, ::Int64, ::Ptr{Nothing}) at /Users/aaron/.julia/packages/PyCall/zqDXB/src/pyfncall.jl:29",
      " [5] _pycall! at /Users/aaron/.julia/packages/PyCall/zqDXB/src/pyfncall.jl:11 [inlined]",
      " [6] #pycall#116 at /Users/aaron/.julia/packages/PyCall/zqDXB/src/pyfncall.jl:83 [inlined]",
      " [7] pycall at /Users/aaron/.julia/packages/PyCall/zqDXB/src/pyfncall.jl:83 [inlined]",
      " [8] pause(::Float64; kws::Base.Iterators.Pairs{Union{},Union{},Tuple{},NamedTuple{(),Tuple{}}}) at /Users/aaron/.julia/packages/PyPlot/4wzW1/src/PyPlot.jl:177",
      " [9] pause at /Users/aaron/.julia/packages/PyPlot/4wzW1/src/PyPlot.jl:174 [inlined]",
      " [10] animate_freeman() at ./In[62]:13",
      " [11] top-level scope at In[69]:1"
     ]
    }
   ],
   "source": [
    "animate_freeman()"
   ]
  },
  {
   "cell_type": "code",
   "execution_count": 58,
   "metadata": {},
   "outputs": [
    {
     "ename": "InterruptException",
     "evalue": "InterruptException:",
     "output_type": "error",
     "traceback": [
      "InterruptException:",
      "",
      "Stacktrace:",
      " [1] sigatomic_end at ./c.jl:425 [inlined]",
      " [2] disable_sigint at ./c.jl:448 [inlined]",
      " [3] __pycall! at /Users/aaron/.julia/packages/PyCall/zqDXB/src/pyfncall.jl:42 [inlined]",
      " [4] _pycall!(::PyCall.PyObject, ::PyCall.PyObject, ::Tuple{}, ::Int64, ::Ptr{Nothing}) at /Users/aaron/.julia/packages/PyCall/zqDXB/src/pyfncall.jl:29",
      " [5] _pycall! at /Users/aaron/.julia/packages/PyCall/zqDXB/src/pyfncall.jl:11 [inlined]",
      " [6] #_#117 at /Users/aaron/.julia/packages/PyCall/zqDXB/src/pyfncall.jl:86 [inlined]",
      " [7] (::PyCall.PyObject)() at /Users/aaron/.julia/packages/PyCall/zqDXB/src/pyfncall.jl:86",
      " [8] animate_comparison() at ./In[46]:19",
      " [9] top-level scope at In[58]:1"
     ]
    }
   ],
   "source": [
    "animate_comparison()"
   ]
  },
  {
   "cell_type": "code",
   "execution_count": null,
   "metadata": {},
   "outputs": [
    {
     "data": {
      "image/png": "[encoded data removed]",
      "text/plain": [
       "Figure(PyObject <Figure size 640x480 with 1 Axes>)"
      ]
     },
     "metadata": {},
     "output_type": "display_data"
    }
   ],
   "source": [
    "animate_freeman_fast()"
   ]
  },
  {
   "cell_type": "code",
   "execution_count": null,
   "metadata": {},
   "outputs": [],
   "source": [
    "@time freeman()"
   ]
  },
  {
   "cell_type": "code",
   "execution_count": null,
   "metadata": {},
   "outputs": [],
   "source": [
    "@time freeman_fast()"
   ]
  },
  {
   "cell_type": "code",
   "execution_count": null,
   "metadata": {},
   "outputs": [],
   "source": []
  }
 ],
 "metadata": {
  "kernelspec": {
   "display_name": "Julia 1.4.1",
   "language": "julia",
   "name": "julia-1.4"
  },
  "language_info": {
   "file_extension": ".jl",
   "mimetype": "application/julia",
   "name": "julia",
   "version": "1.4.2"
  }
 },
 "nbformat": 4,
 "nbformat_minor": 4
}
