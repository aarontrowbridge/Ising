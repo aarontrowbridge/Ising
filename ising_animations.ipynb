{
 "cells": [
  {
   "cell_type": "code",
   "execution_count": 1,
   "metadata": {},
   "outputs": [
    {
     "name": "stderr",
     "output_type": "stream",
     "text": [
      "┌ Info: Precompiling MBTrees [top-level]\n",
      "└ @ Base loading.jl:1260\n"
     ]
    }
   ],
   "source": [
    "push!(LOAD_PATH, pwd())\n",
    "\n",
    "using PyPlot, SpinBodies, MBTrees;"
   ]
  },
  {
   "cell_type": "code",
   "execution_count": null,
   "metadata": {},
   "outputs": [],
   "source": [
    "const steps = 1e6\n",
    "const frameskip = 500\n",
    "\n",
    "const N = 50\n",
    "const T = 0.01;"
   ]
  },
  {
   "cell_type": "code",
   "execution_count": null,
   "metadata": {},
   "outputs": [],
   "source": [
    "init_lattice = SpinLattice(N, T);"
   ]
  },
  {
   "cell_type": "code",
   "execution_count": null,
   "metadata": {},
   "outputs": [],
   "source": [
    "pygui(true)\n",
    "\n",
    "function animate_comparison()\n",
    "    lattice1 = SpinLattice(N, T)\n",
    "    lattice2 = SpinLattice(N, T)\n",
    "    tree1 = build_tree(lattice1)\n",
    "    tree2 = build_tree(lattice2)\n",
    "\n",
    "    fig, axs = PyPlot.subplots(1,2)\n",
    "\n",
    "    for step = 1:steps\n",
    "        freeman_step!(lattice1, tree1)\n",
    "        freeman_step_fast!(lattice2, tree2)\n",
    "        if step % frameskip == 0\n",
    "            vis1 = visualize(lattice1)\n",
    "            vis2 = visualize(lattice2)\n",
    "            axs[1].cla()\n",
    "            axs[1].matshow(vis1)\n",
    "            axs[2].cla()\n",
    "            axs[2].matshow(vis2)\n",
    "            PyPlot.pause(0.001)\n",
    "        end\n",
    "    end\n",
    "    println(lattice1.M, \" \", lattice2.M)\n",
    "end"
   ]
  },
  {
   "cell_type": "code",
   "execution_count": null,
   "metadata": {},
   "outputs": [],
   "source": [
    "pygui(true)\n",
    "\n",
    "function animate_freeman()\n",
    "    lattice = copy(init_lattice)\n",
    "    tree = build_tree(lattice)\n",
    "    fig, ax = PyPlot.subplots()\n",
    "    for step = 1:steps\n",
    "        freeman_step!(lattice, tree)\n",
    "        if step % frameskip == 0\n",
    "            vis = visualize(lattice)\n",
    "            ax.cla()\n",
    "            ax.matshow(vis)\n",
    "            PyPlot.pause(0.0001)\n",
    "        end\n",
    "    end\n",
    "end"
   ]
  },
  {
   "cell_type": "code",
   "execution_count": null,
   "metadata": {},
   "outputs": [],
   "source": [
    "pygui(true)\n",
    "\n",
    "function freeman()\n",
    "    lattice = copy(init_lattice)\n",
    "    tree = build_tree(lattice)\n",
    "    for step = 1:steps\n",
    "        freeman_step!(lattice, tree)\n",
    "    end\n",
    "    update_lattice!(lattice)\n",
    "    println(lattice.M)\n",
    "end"
   ]
  },
  {
   "cell_type": "code",
   "execution_count": null,
   "metadata": {},
   "outputs": [],
   "source": [
    "pygui(true)\n",
    "\n",
    "function animate_freeman_fast()\n",
    "    lattice = copy(init_lattice)\n",
    "    tree = build_tree(lattice)\n",
    "\n",
    "    fig, ax = PyPlot.subplots()\n",
    "\n",
    "    for step = 1:steps\n",
    "        freeman_step_fast!(lattice, tree)\n",
    "        if step % frameskip == 0\n",
    "            vis = visualize(lattice)\n",
    "            ax.cla()\n",
    "            ax.matshow(vis)\n",
    "            PyPlot.pause(0.0001)\n",
    "        end\n",
    "    end\n",
    "end"
   ]
  },
  {
   "cell_type": "code",
   "execution_count": null,
   "metadata": {},
   "outputs": [],
   "source": [
    "pygui(true)\n",
    "\n",
    "function freeman_fast()\n",
    "    lattice = copy(init_lattice)\n",
    "    tree = build_tree(lattice)\n",
    "    for step = 1:steps\n",
    "        freeman_step_fast!(lattice, tree)\n",
    "    end\n",
    "    update_lattice!(lattice)\n",
    "    println(lattice.M)\n",
    "end"
   ]
  },
  {
   "cell_type": "code",
   "execution_count": null,
   "metadata": {},
   "outputs": [],
   "source": [
    "pygui(true)\n",
    "\n",
    "function animate_metropolis()\n",
    "    lattice = copy(init_lattice)\n",
    "    fig, ax = PyPlot.subplots()\n",
    "\n",
    "    for step = 1:steps\n",
    "        metropolis_step!(lattice)\n",
    "        if step % frameskip == 0\n",
    "            vis = visualize(lattice)\n",
    "            ax.cla()\n",
    "            ax.matshow(vis)\n",
    "            PyPlot.pause(0.0001)\n",
    "        end\n",
    "    end\n",
    "end"
   ]
  },
  {
   "cell_type": "code",
   "execution_count": null,
   "metadata": {},
   "outputs": [],
   "source": [
    "pygui(true)\n",
    "\n",
    "function metropolis()\n",
    "    lattice = copy(init_lattice)\n",
    "    for step = 1:steps\n",
    "        metropolis_step!(lattice)\n",
    "    end\n",
    "    update_lattice!(lattice)\n",
    "    println(lattice.M)\n",
    "end"
   ]
  },
  {
   "cell_type": "code",
   "execution_count": 21,
   "metadata": {},
   "outputs": [
    {
     "ename": "InterruptException",
     "evalue": "InterruptException:",
     "output_type": "error",
     "traceback": [
      "InterruptException:",
      "",
      "Stacktrace:",
      " [1] sigatomic_end at ./c.jl:425 [inlined]",
      " [2] disable_sigint at ./c.jl:448 [inlined]",
      " [3] __pycall! at /Users/aaron/.julia/packages/PyCall/zqDXB/src/pyfncall.jl:42 [inlined]",
      " [4] _pycall!(::PyCall.PyObject, ::PyCall.PyObject, ::Tuple{}, ::Int64, ::Ptr{Nothing}) at /Users/aaron/.julia/packages/PyCall/zqDXB/src/pyfncall.jl:29",
      " [5] _pycall! at /Users/aaron/.julia/packages/PyCall/zqDXB/src/pyfncall.jl:11 [inlined]",
      " [6] #_#117 at /Users/aaron/.julia/packages/PyCall/zqDXB/src/pyfncall.jl:86 [inlined]",
      " [7] (::PyCall.PyObject)() at /Users/aaron/.julia/packages/PyCall/zqDXB/src/pyfncall.jl:86",
      " [8] animate_metropolis() at ./In[9]:11",
      " [9] top-level scope at In[21]:1"
     ]
    }
   ],
   "source": [
    "animate_metropolis()"
   ]
  },
  {
   "cell_type": "code",
   "execution_count": 22,
   "metadata": {},
   "outputs": [
    {
     "ename": "InterruptException",
     "evalue": "InterruptException:",
     "output_type": "error",
     "traceback": [
      "InterruptException:",
      "",
      "Stacktrace:",
      " [1] m at /Users/aaron/Projects/Ising/MBTrees.jl:38 [inlined]",
      " [2] (::MBTrees.var\"#4#8\"{SpinLattice})(::Tuple{Float64,Float64}) at ./none:0",
      " [3] iterate at ./generator.jl:47 [inlined]",
      " [4] collect_to!(::Array{Float64,1}, ::Base.Generator{Base.Iterators.Zip{Tuple{Array{Float64,1},Array{Float64,1}}},MBTrees.var\"#4#8\"{SpinLattice}}, ::Int64, ::Tuple{Int64,Int64}) at ./array.jl:710",
      " [5] collect_to_with_first! at ./array.jl:689 [inlined]",
      " [6] collect(::Base.Generator{Base.Iterators.Zip{Tuple{Array{Float64,1},Array{Float64,1}}},MBTrees.var\"#4#8\"{SpinLattice}}) at ./array.jl:670",
      " [7] tree_flip!(::MBTree, ::SpinLattice, ::Int64, ::Int64) at /Users/aaron/Projects/Ising/MBTrees.jl:118",
      " [8] freeman_step!(::SpinLattice, ::MBTree) at /Users/aaron/Projects/Ising/MBTrees.jl:96",
      " [9] animate_freeman() at ./In[5]:8",
      " [10] top-level scope at In[22]:1"
     ]
    }
   ],
   "source": [
    "animate_freeman()"
   ]
  },
  {
   "cell_type": "code",
   "execution_count": 14,
   "metadata": {},
   "outputs": [
    {
     "ename": "InterruptException",
     "evalue": "InterruptException:",
     "output_type": "error",
     "traceback": [
      "InterruptException:",
      "",
      "Stacktrace:",
      " [1] getindex at ./tuple.jl:24 [inlined]",
      " [2] iterate at ./tuple.jl:61 [inlined]",
      " [3] copyto!(::Array{Float64,1}, ::Tuple{Int64,Float64}) at ./abstractarray.jl:725",
      " [4] vect(::Int64, ::Vararg{Any,N} where N) at ./array.jl:151",
      " [5] m at /Users/aaron/Projects/Ising/MBTrees.jl:38 [inlined]",
      " [6] (::MBTrees.var\"#12#16\"{SpinLattice})(::Tuple{Float64,Float64}) at ./none:0",
      " [7] iterate at ./generator.jl:47 [inlined]",
      " [8] collect_to!(::Array{Float64,1}, ::Base.Generator{Base.Iterators.Zip{Tuple{Array{Float64,1},Array{Float64,1}}},MBTrees.var\"#12#16\"{SpinLattice}}, ::Int64, ::Tuple{Int64,Int64}) at ./array.jl:710",
      " [9] collect_to_with_first! at ./array.jl:689 [inlined]",
      " [10] collect(::Base.Generator{Base.Iterators.Zip{Tuple{Array{Float64,1},Array{Float64,1}}},MBTrees.var\"#12#16\"{SpinLattice}}) at ./array.jl:670",
      " [11] tree_flip_fast!(::MBTree, ::SpinLattice, ::Int64, ::Int64) at /Users/aaron/Projects/Ising/MBTrees.jl:136",
      " [12] freeman_step_fast!(::SpinLattice, ::MBTree) at /Users/aaron/Projects/Ising/MBTrees.jl:102",
      " [13] animate_freeman_fast() at ./In[7]:10",
      " [14] top-level scope at In[14]:1"
     ]
    }
   ],
   "source": [
    "animate_freeman_fast()"
   ]
  },
  {
   "cell_type": "code",
   "execution_count": 26,
   "metadata": {
    "collapsed": true,
    "jupyter": {
     "outputs_hidden": true
    }
   },
   "outputs": [
    {
     "ename": "InterruptException",
     "evalue": "InterruptException:",
     "output_type": "error",
     "traceback": [
      "InterruptException:",
      "",
      "Stacktrace:",
      " [1] sigatomic_end at ./c.jl:425 [inlined]",
      " [2] disable_sigint at ./c.jl:448 [inlined]",
      " [3] __pycall! at /Users/aaron/.julia/packages/PyCall/zqDXB/src/pyfncall.jl:42 [inlined]",
      " [4] _pycall!(::PyCall.PyObject, ::PyCall.PyObject, ::Tuple{Array{Int64,2}}, ::Int64, ::Ptr{Nothing}) at /Users/aaron/.julia/packages/PyCall/zqDXB/src/pyfncall.jl:29",
      " [5] _pycall! at /Users/aaron/.julia/packages/PyCall/zqDXB/src/pyfncall.jl:11 [inlined]",
      " [6] #_#117 at /Users/aaron/.julia/packages/PyCall/zqDXB/src/pyfncall.jl:86 [inlined]",
      " [7] (::PyCall.PyObject)(::Array{Int64,2}) at /Users/aaron/.julia/packages/PyCall/zqDXB/src/pyfncall.jl:86",
      " [8] animate_comparison() at ./In[25]:18",
      " [9] top-level scope at In[26]:1"
     ]
    }
   ],
   "source": [
    "animate_comparison()"
   ]
  },
  {
   "cell_type": "code",
   "execution_count": 18,
   "metadata": {},
   "outputs": [
    {
     "name": "stdout",
     "output_type": "stream",
     "text": [
      "1.0\n",
      " 30.919551 seconds (119.03 M allocations: 5.143 GiB, 2.31% gc time)\n"
     ]
    }
   ],
   "source": [
    "@time freeman()"
   ]
  },
  {
   "cell_type": "code",
   "execution_count": 19,
   "metadata": {},
   "outputs": [
    {
     "name": "stdout",
     "output_type": "stream",
     "text": [
      "-0.072\n",
      " 30.237892 seconds (119.03 M allocations: 5.143 GiB, 2.38% gc time)\n"
     ]
    }
   ],
   "source": [
    "@time freeman_fast()"
   ]
  },
  {
   "cell_type": "code",
   "execution_count": null,
   "metadata": {},
   "outputs": [],
   "source": []
  }
 ],
 "metadata": {
  "kernelspec": {
   "display_name": "Julia 1.4.0",
   "language": "julia",
   "name": "julia-1.4"
  },
  "language_info": {
   "file_extension": ".jl",
   "mimetype": "application/julia",
   "name": "julia",
   "version": "1.4.0"
  }
 },
 "nbformat": 4,
 "nbformat_minor": 4
}
